{
 "cells": [
  {
   "cell_type": "markdown",
   "metadata": {},
   "source": [
    "# Estadistica\n",
    "\n",
    "**Nota:**\n",
    "Los metodos se aplican a una poblacion"
   ]
  },
  {
   "cell_type": "markdown",
   "metadata": {},
   "source": [
    "## Calculo de la media y la mediana\n",
    "\n"
   ]
  },
  {
   "cell_type": "code",
   "execution_count": 25,
   "metadata": {},
   "outputs": [
    {
     "name": "stdout",
     "output_type": "stream",
     "text": [
      "Elementos en la lista:\n",
      "[36, 5, 96, 3, 26, 83, 88, 45, 2, 97, 20, 53, 32, 89, 12, 12, 68, 95]\n",
      "\n",
      "\n",
      "La media es:  47.89\n",
      "La mediana es:  40.50\n"
     ]
    }
   ],
   "source": [
    "# Calculo de la media aritmetica\n",
    "\n",
    "from random import randint\n",
    "\n",
    "\n",
    "def calculo_media(elementos):\n",
    "    s = sum(elementos)\n",
    "    n = len(elementos)\n",
    "    return s/n\n",
    "\n",
    "\n",
    "def calculo_mediana(elementos):\n",
    "    n = len(elementos)\n",
    "    elementos.sort()\n",
    "    \n",
    "    #numero de elementos par\n",
    "    if n%2==0:\n",
    "        ind1 = n/2\n",
    "        ind2 = (n/2) +1\n",
    "        \n",
    "        #Conversion a entero\n",
    "        \"\"\"Se resta \"\"\"\n",
    "        ind1 = int(ind1) - 1\n",
    "        ind2 = int(ind2) - 1\n",
    "        mediana = (elementos[ind1] + elementos[ind2]) / 2\n",
    "    #numero de elementos impar\n",
    "    else:\n",
    "        ind = (n + 1 )/2\n",
    "        ind =  int(ind)-1\n",
    "        mediana = elementos[ind]\n",
    "    \n",
    "    return mediana\n",
    "        \n",
    "        \n",
    "\n",
    "elementos = [randint(1,100) for _ in range(18)]\n",
    "print(f\"Elementos en la lista:\\n{elementos}\")\n",
    "print(\"\\n\")\n",
    "\n",
    "print(\"La media es:  {0:.2f}\".format(calculo_media(elementos)))\n",
    "print(\"La mediana es:  {0:.2f}\".format(calculo_mediana(elementos)))\n",
    "\n",
    "\n"
   ]
  },
  {
   "cell_type": "markdown",
   "metadata": {},
   "source": [
    "## Calculo de la moda"
   ]
  },
  {
   "cell_type": "code",
   "execution_count": 40,
   "metadata": {},
   "outputs": [
    {
     "name": "stdout",
     "output_type": "stream",
     "text": [
      "Elementos ordenados por el numero de veces que estos aparecen\n",
      "[(4, 3), (1, 3), (2, 3), (5, 2), (8, 2), (6, 2), (10, 2), (9, 1), (3, 1), (7, 1)]\n",
      "\n",
      "El mas comun [(4, 3)]\n",
      "Numero: 4\tApariciones: 3\n"
     ]
    }
   ],
   "source": [
    "# Uso de la clase Counter\n",
    "\n",
    "from random import randint\n",
    "from collections import Counter\n",
    "\n",
    "elementos = [randint(1,10)  for _ in range(20)]\n",
    "\n",
    "c = Counter(elementos)\n",
    "print(\"Elementos ordenados por el numero de veces que estos aparecen\")\n",
    "print(c.most_common())\n",
    "\n",
    "print(\"\\nEl mas comun\", c.most_common(1))\n",
    "print(f\"Numero: {c.most_common(1)[0][0]}\", end=\"\\t\" )\n",
    "print(f\"Apariciones: {c.most_common(1)[0][1]}\")"
   ]
  },
  {
   "cell_type": "markdown",
   "metadata": {},
   "source": [
    "### Calculo de la moda y elaboracion de tabla de frecuencias"
   ]
  },
  {
   "cell_type": "code",
   "execution_count": 27,
   "metadata": {},
   "outputs": [
    {
     "name": "stdout",
     "output_type": "stream",
     "text": [
      "Moda(s) encontrada(s))\n",
      "5\n",
      "\n",
      "\n",
      "Tabla ordenada por frecuencia\n",
      "Elementos\tFrecuencia\n",
      "5\t\t6\n",
      "7\t\t4\n",
      "8\t\t4\n",
      "2\t\t4\n",
      "4\t\t3\n",
      "9\t\t3\n",
      "6\t\t2\n",
      "3\t\t2\n",
      "10\t\t1\n",
      "1\t\t1\n",
      "\n",
      "\n",
      "\n",
      "Tabla ordenada por elementos\n",
      "Elementos\tFrecuencia\n",
      "1\t\t1\n",
      "2\t\t4\n",
      "3\t\t2\n",
      "4\t\t3\n",
      "5\t\t6\n",
      "6\t\t2\n",
      "7\t\t4\n",
      "8\t\t4\n",
      "9\t\t3\n",
      "10\t\t1\n",
      "\n",
      "\n",
      "\n"
     ]
    }
   ],
   "source": [
    "# Creacion de programa que encuentra la o las modas\n",
    "\n",
    "from collections import Counter\n",
    "from random import randint\n",
    "\n",
    "def obterner_moda(elementos):\n",
    "    items = Counter(elementos)\n",
    "    frecuencia_elementos = items.most_common()\n",
    "    maxima_frec = frecuencia_elementos[0][1]\n",
    "    \n",
    "    modas = []\n",
    "    for i in frecuencia_elementos:\n",
    "        if i [1] == maxima_frec:\n",
    "            modas.append(i[0])\n",
    "    return modas\n",
    "\n",
    "def imprimir_moda(lista):\n",
    "    for i in lista:\n",
    "        print(i)\n",
    "\n",
    "\n",
    "def tabla_frecuencias(elementos):\n",
    "    \"\"\"imprime una tabla mostrando los elementos y la frecuencia de aparicion\"\"\"\n",
    "    tabla = Counter(elementos)\n",
    "    print(\"Elementos\\tFrecuencia\")\n",
    "    for elemento, frecuencia in tabla.most_common():\n",
    "        print(f\"{elemento}\\t\\t{frecuencia}\")\n",
    "\n",
    "def tabla_frec_ordenada(elementos):\n",
    "    \"\"\"imprime una tabla mostrando los elementos y la frecuencia de aparicion\n",
    "    pero de ordenada por elemento\"\"\"\n",
    "    tabla = Counter(elementos)\n",
    "    numeros_ordenados = tabla.most_common()\n",
    "    numeros_ordenados.sort()\n",
    "    \n",
    "    print(\"Elementos\\tFrecuencia\")\n",
    "    for elemento, frecuencia in numeros_ordenados:\n",
    "        print(f\"{elemento}\\t\\t{frecuencia}\")\n",
    "        \n",
    "\n",
    "elementos = [randint(1,10) for _ in range(30)]\n",
    "modas = obterner_moda(elementos)\n",
    "\n",
    "print(\"Moda(s) encontrada(s))\")\n",
    "imprimir_moda(modas)\n",
    "print(\"\\n\")\n",
    "\n",
    "print(\"Tabla ordenada por frecuencia\")\n",
    "tabla_frecuencias(elementos)\n",
    "print(\"\\n\\n\")\n",
    "\n",
    "print(\"Tabla ordenada por elementos\")\n",
    "tabla_frec_ordenada(elementos)\n",
    "print(\"\\n\\n\")\n"
   ]
  },
  {
   "cell_type": "markdown",
   "metadata": {},
   "source": [
    "## Midiendo la dispersion\n",
    "**Las medidas de dispercion son:**\n",
    "* Rango\n",
    "* Varianza\n",
    "* Desviacion estandar\n"
   ]
  },
  {
   "cell_type": "markdown",
   "metadata": {},
   "source": [
    "### Rango de un conjunto de numeros"
   ]
  },
  {
   "cell_type": "code",
   "execution_count": 28,
   "metadata": {},
   "outputs": [
    {
     "name": "stdout",
     "output_type": "stream",
     "text": [
      "Elementos de la lista:\n",
      "\n",
      "\n",
      "Minimo:111\n",
      "Maximo:1499\n",
      "Rango:1388\n"
     ]
    }
   ],
   "source": [
    "#Rango de los datos\n",
    "\n",
    "from random import randint\n",
    "\n",
    "\n",
    "def rango(elementos):\n",
    "    minimo = min(elementos)\n",
    "    maximo = max(elementos)\n",
    "    #Calculando el rango\n",
    "    rango = maximo - minimo\n",
    "    \n",
    "    return minimo, maximo, rango\n",
    "\n",
    "elementos = [randint(100,1500) for _ in range(50)]\n",
    "\n",
    "minimo, maximo, rango = rango(elementos) \n",
    "print(\"Elementos de la lista:\\n\\n\")\n",
    "print(f\"Minimo:{minimo}\\nMaximo:{maximo}\\nRango:{rango}\")\n",
    "\n"
   ]
  },
  {
   "cell_type": "markdown",
   "metadata": {},
   "source": [
    "### Varianza y desviacion estandar\n",
    "\n",
    "La _Varianza_ esta definida por:\n",
    "$$ s^2=\\frac{\\sum{(x_i-x_{mean}})^2}{n}$$\n",
    "\n",
    "Mientras la _Desviacion estandar_ es solo la raiz cuadrada de la varianza:\n",
    "$$ s=\\sqrt{\\frac{\\sum{(x_i-x_{mean}})^2}{n}}$$"
   ]
  },
  {
   "cell_type": "code",
   "execution_count": 51,
   "metadata": {},
   "outputs": [
    {
     "name": "stdout",
     "output_type": "stream",
     "text": [
      "La varianza de la lista de elementos es:\t138,079.41\n",
      "\n",
      "\n",
      "La desviacion estandar de los elementos es:\t371.59\n"
     ]
    }
   ],
   "source": [
    "# Encontrando la media y la desviacion estandar\n",
    "from random import randint\n",
    "\n",
    "def calculo_media(elementos):\n",
    "    suma = sum(elementos)\n",
    "    n_e = len(elementos)\n",
    "    return suma/n_e\n",
    "\n",
    "def calculo_diferencia(elementos):\n",
    "    \"\"\"Diferencia (resta) de dos elementos\"\"\"\n",
    "    media = calculo_media(elementos)\n",
    "    \n",
    "    #Diferencia respecto a la media\n",
    "    diferencia = [i - media for i in elementos]\n",
    "    return diferencia\n",
    "\n",
    "def calculo_varianza(elementos):\n",
    "    diferencias = calculo_diferencia(elementos)\n",
    "    diff_sqr = [i**2 for i in diferencias]\n",
    "    \n",
    "    #Calculo de varianza\n",
    "    sum_diff_sqr = sum(diff_sqr)\n",
    "    varianza = (sum_diff_sqr) / len(elementos)\n",
    "    return varianza\n",
    "\n",
    "# Prueba\n",
    "numeros = [randint(100,1500) for _ in range(50)]\n",
    "\n",
    "varianza = calculo_varianza(numeros)\n",
    "print(\"La varianza de la lista de elementos es:\",end=\"\\t\")\n",
    "print(\"{:,.2f}\".format(varianza))\n",
    "print(\"\\n\\nLa desviacion estandar de los elementos es:\",end=\"\\t\")\n",
    "print(\"{:,.2f}\".format(varianza**0.5))"
   ]
  },
  {
   "cell_type": "markdown",
   "metadata": {},
   "source": [
    "## Calculo de coeficiente de correlacion\n",
    "\n",
    "El _coeficiente de correlacion_ esta definido por:\n",
    "\n",
    "$$ correlacion = \\frac{n\\sum{xy}-\\sum{x}\\sum{y}}{\\sqrt{(n\\sum{x^2}-{(\\sum{x})^2})(n\\sum{y^2}-(\\sum{y})^2)}}  $$\n"
   ]
  },
  {
   "cell_type": "code",
   "execution_count": null,
   "metadata": {},
   "outputs": [],
   "source": []
  },
  {
   "cell_type": "code",
   "execution_count": null,
   "metadata": {},
   "outputs": [],
   "source": []
  },
  {
   "cell_type": "code",
   "execution_count": null,
   "metadata": {},
   "outputs": [],
   "source": []
  },
  {
   "cell_type": "code",
   "execution_count": null,
   "metadata": {},
   "outputs": [],
   "source": []
  },
  {
   "cell_type": "code",
   "execution_count": null,
   "metadata": {},
   "outputs": [],
   "source": []
  },
  {
   "cell_type": "code",
   "execution_count": null,
   "metadata": {},
   "outputs": [],
   "source": []
  }
 ],
 "metadata": {
  "kernelspec": {
   "display_name": "Python 3",
   "language": "python",
   "name": "python3"
  },
  "language_info": {
   "codemirror_mode": {
    "name": "ipython",
    "version": 3
   },
   "file_extension": ".py",
   "mimetype": "text/x-python",
   "name": "python",
   "nbconvert_exporter": "python",
   "pygments_lexer": "ipython3",
   "version": "3.8.3"
  }
 },
 "nbformat": 4,
 "nbformat_minor": 4
}
