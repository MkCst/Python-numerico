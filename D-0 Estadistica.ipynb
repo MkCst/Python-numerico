{
 "cells": [
  {
   "cell_type": "markdown",
   "metadata": {},
   "source": [
    "# Estadistica\n",
    "\n",
    "**Nota:**\n",
    "Los metodos se aplican a una poblacion"
   ]
  },
  {
   "cell_type": "markdown",
   "metadata": {},
   "source": [
    "## Calculo de la media y la mediana\n",
    "\n"
   ]
  },
  {
   "cell_type": "code",
   "execution_count": 25,
   "metadata": {},
   "outputs": [
    {
     "name": "stdout",
     "output_type": "stream",
     "text": [
      "Elementos en la lista:\n",
      "[36, 5, 96, 3, 26, 83, 88, 45, 2, 97, 20, 53, 32, 89, 12, 12, 68, 95]\n",
      "\n",
      "\n",
      "La media es:  47.89\n",
      "La mediana es:  40.50\n"
     ]
    }
   ],
   "source": [
    "# Calculo de la media aritmetica\n",
    "\n",
    "from random import randint\n",
    "\n",
    "\n",
    "def calculo_media(elementos):\n",
    "    s = sum(elementos)\n",
    "    n = len(elementos)\n",
    "    return s/n\n",
    "\n",
    "\n",
    "def calculo_mediana(elementos):\n",
    "    n = len(elementos)\n",
    "    elementos.sort()\n",
    "    \n",
    "    #numero de elementos par\n",
    "    if n%2==0:\n",
    "        ind1 = n/2\n",
    "        ind2 = (n/2) +1\n",
    "        \n",
    "        #Conversion a entero\n",
    "        \"\"\"Se resta \"\"\"\n",
    "        ind1 = int(ind1) - 1\n",
    "        ind2 = int(ind2) - 1\n",
    "        mediana = (elementos[ind1] + elementos[ind2]) / 2\n",
    "    #numero de elementos impar\n",
    "    else:\n",
    "        ind = (n + 1 )/2\n",
    "        ind =  int(ind)-1\n",
    "        mediana = elementos[ind]\n",
    "    \n",
    "    return mediana\n",
    "        \n",
    "        \n",
    "\n",
    "elementos = [randint(1,100) for _ in range(18)]\n",
    "print(f\"Elementos en la lista:\\n{elementos}\")\n",
    "print(\"\\n\")\n",
    "\n",
    "print(\"La media es:  {0:.2f}\".format(calculo_media(elementos)))\n",
    "print(\"La mediana es:  {0:.2f}\".format(calculo_mediana(elementos)))\n",
    "\n",
    "\n"
   ]
  },
  {
   "cell_type": "markdown",
   "metadata": {},
   "source": [
    "## Calculo de la moda"
   ]
  },
  {
   "cell_type": "code",
   "execution_count": 40,
   "metadata": {},
   "outputs": [
    {
     "name": "stdout",
     "output_type": "stream",
     "text": [
      "Elementos ordenados por el numero de veces que estos aparecen\n",
      "[(4, 3), (1, 3), (2, 3), (5, 2), (8, 2), (6, 2), (10, 2), (9, 1), (3, 1), (7, 1)]\n",
      "\n",
      "El mas comun [(4, 3)]\n",
      "Numero: 4\tApariciones: 3\n"
     ]
    }
   ],
   "source": [
    "# Uso de la clase Counter\n",
    "\n",
    "from random import randint\n",
    "from collections import Counter\n",
    "\n",
    "elementos = [randint(1,10)  for _ in range(20)]\n",
    "\n",
    "c = Counter(elementos)\n",
    "print(\"Elementos ordenados por el numero de veces que estos aparecen\")\n",
    "print(c.most_common())\n",
    "\n",
    "print(\"\\nEl mas comun\", c.most_common(1))\n",
    "print(f\"Numero: {c.most_common(1)[0][0]}\", end=\"\\t\" )\n",
    "print(f\"Apariciones: {c.most_common(1)[0][1]}\")"
   ]
  },
  {
   "cell_type": "code",
   "execution_count": null,
   "metadata": {},
   "outputs": [],
   "source": []
  },
  {
   "cell_type": "code",
   "execution_count": null,
   "metadata": {},
   "outputs": [],
   "source": []
  },
  {
   "cell_type": "code",
   "execution_count": null,
   "metadata": {},
   "outputs": [],
   "source": []
  }
 ],
 "metadata": {
  "kernelspec": {
   "display_name": "Python 3",
   "language": "python",
   "name": "python3"
  },
  "language_info": {
   "codemirror_mode": {
    "name": "ipython",
    "version": 3
   },
   "file_extension": ".py",
   "mimetype": "text/x-python",
   "name": "python",
   "nbconvert_exporter": "python",
   "pygments_lexer": "ipython3",
   "version": "3.8.3"
  }
 },
 "nbformat": 4,
 "nbformat_minor": 4
}
