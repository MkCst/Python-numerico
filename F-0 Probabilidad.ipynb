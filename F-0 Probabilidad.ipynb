{
 "cells": [
  {
   "cell_type": "markdown",
   "metadata": {
    "id": "TZd2XFMJrLny"
   },
   "source": [
    "# Calculo de probabilidades"
   ]
  },
  {
   "cell_type": "code",
   "execution_count": null,
   "metadata": {
    "colab": {
     "base_uri": "https://localhost:8080/",
     "height": 651
    },
    "executionInfo": {
     "elapsed": 3089,
     "status": "ok",
     "timestamp": 1613494076486,
     "user": {
      "displayName": "Miguel Angel Castillo",
      "photoUrl": "https://lh3.googleusercontent.com/a-/AOh14Gh4hyUbr2m41WcjcOqUnBGGKF6nQz3u9z6NaQ523Q=s64",
      "userId": "07217403021476701761"
     },
     "user_tz": 360
    },
    "id": "2HTvoFw6rLn6",
    "outputId": "24bc509c-2e0c-4e8d-e7bb-571f9f3f5c3b"
   },
   "outputs": [
    {
     "name": "stdout",
     "output_type": "stream",
     "text": [
      "Numero de tiros del dado: 1\n",
      "Numero de intentos :100\n"
     ]
    },
    {
     "data": {
      "application/javascript": [
       "\n",
       "(function(root) {\n",
       "  function now() {\n",
       "    return new Date();\n",
       "  }\n",
       "\n",
       "  var force = true;\n",
       "\n",
       "  if (typeof root._bokeh_onload_callbacks === \"undefined\" || force === true) {\n",
       "    root._bokeh_onload_callbacks = [];\n",
       "    root._bokeh_is_loading = undefined;\n",
       "  }\n",
       "\n",
       "  var JS_MIME_TYPE = 'application/javascript';\n",
       "  var HTML_MIME_TYPE = 'text/html';\n",
       "  var EXEC_MIME_TYPE = 'application/vnd.bokehjs_exec.v0+json';\n",
       "  var CLASS_NAME = 'output_bokeh rendered_html';\n",
       "\n",
       "  /**\n",
       "   * Render data to the DOM node\n",
       "   */\n",
       "  function render(props, node) {\n",
       "    var script = document.createElement(\"script\");\n",
       "    node.appendChild(script);\n",
       "  }\n",
       "\n",
       "  /**\n",
       "   * Handle when an output is cleared or removed\n",
       "   */\n",
       "  function handleClearOutput(event, handle) {\n",
       "    var cell = handle.cell;\n",
       "\n",
       "    var id = cell.output_area._bokeh_element_id;\n",
       "    var server_id = cell.output_area._bokeh_server_id;\n",
       "    // Clean up Bokeh references\n",
       "    if (id != null && id in Bokeh.index) {\n",
       "      Bokeh.index[id].model.document.clear();\n",
       "      delete Bokeh.index[id];\n",
       "    }\n",
       "\n",
       "    if (server_id !== undefined) {\n",
       "      // Clean up Bokeh references\n",
       "      var cmd = \"from bokeh.io.state import curstate; print(curstate().uuid_to_server['\" + server_id + \"'].get_sessions()[0].document.roots[0]._id)\";\n",
       "      cell.notebook.kernel.execute(cmd, {\n",
       "        iopub: {\n",
       "          output: function(msg) {\n",
       "            var id = msg.content.text.trim();\n",
       "            if (id in Bokeh.index) {\n",
       "              Bokeh.index[id].model.document.clear();\n",
       "              delete Bokeh.index[id];\n",
       "            }\n",
       "          }\n",
       "        }\n",
       "      });\n",
       "      // Destroy server and session\n",
       "      var cmd = \"import bokeh.io.notebook as ion; ion.destroy_server('\" + server_id + \"')\";\n",
       "      cell.notebook.kernel.execute(cmd);\n",
       "    }\n",
       "  }\n",
       "\n",
       "  /**\n",
       "   * Handle when a new output is added\n",
       "   */\n",
       "  function handleAddOutput(event, handle) {\n",
       "    var output_area = handle.output_area;\n",
       "    var output = handle.output;\n",
       "\n",
       "    // limit handleAddOutput to display_data with EXEC_MIME_TYPE content only\n",
       "    if ((output.output_type != \"display_data\") || (!output.data.hasOwnProperty(EXEC_MIME_TYPE))) {\n",
       "      return\n",
       "    }\n",
       "\n",
       "    var toinsert = output_area.element.find(\".\" + CLASS_NAME.split(' ')[0]);\n",
       "\n",
       "    if (output.metadata[EXEC_MIME_TYPE][\"id\"] !== undefined) {\n",
       "      toinsert[toinsert.length - 1].firstChild.textContent = output.data[JS_MIME_TYPE];\n",
       "      // store reference to embed id on output_area\n",
       "      output_area._bokeh_element_id = output.metadata[EXEC_MIME_TYPE][\"id\"];\n",
       "    }\n",
       "    if (output.metadata[EXEC_MIME_TYPE][\"server_id\"] !== undefined) {\n",
       "      var bk_div = document.createElement(\"div\");\n",
       "      bk_div.innerHTML = output.data[HTML_MIME_TYPE];\n",
       "      var script_attrs = bk_div.children[0].attributes;\n",
       "      for (var i = 0; i < script_attrs.length; i++) {\n",
       "        toinsert[toinsert.length - 1].firstChild.setAttribute(script_attrs[i].name, script_attrs[i].value);\n",
       "        toinsert[toinsert.length - 1].firstChild.textContent = bk_div.children[0].textContent\n",
       "      }\n",
       "      // store reference to server id on output_area\n",
       "      output_area._bokeh_server_id = output.metadata[EXEC_MIME_TYPE][\"server_id\"];\n",
       "    }\n",
       "  }\n",
       "\n",
       "  function register_renderer(events, OutputArea) {\n",
       "\n",
       "    function append_mime(data, metadata, element) {\n",
       "      // create a DOM node to render to\n",
       "      var toinsert = this.create_output_subarea(\n",
       "        metadata,\n",
       "        CLASS_NAME,\n",
       "        EXEC_MIME_TYPE\n",
       "      );\n",
       "      this.keyboard_manager.register_events(toinsert);\n",
       "      // Render to node\n",
       "      var props = {data: data, metadata: metadata[EXEC_MIME_TYPE]};\n",
       "      render(props, toinsert[toinsert.length - 1]);\n",
       "      element.append(toinsert);\n",
       "      return toinsert\n",
       "    }\n",
       "\n",
       "    /* Handle when an output is cleared or removed */\n",
       "    events.on('clear_output.CodeCell', handleClearOutput);\n",
       "    events.on('delete.Cell', handleClearOutput);\n",
       "\n",
       "    /* Handle when a new output is added */\n",
       "    events.on('output_added.OutputArea', handleAddOutput);\n",
       "\n",
       "    /**\n",
       "     * Register the mime type and append_mime function with output_area\n",
       "     */\n",
       "    OutputArea.prototype.register_mime_type(EXEC_MIME_TYPE, append_mime, {\n",
       "      /* Is output safe? */\n",
       "      safe: true,\n",
       "      /* Index of renderer in `output_area.display_order` */\n",
       "      index: 0\n",
       "    });\n",
       "  }\n",
       "\n",
       "  // register the mime type if in Jupyter Notebook environment and previously unregistered\n",
       "  if (root.Jupyter !== undefined) {\n",
       "    var events = require('base/js/events');\n",
       "    var OutputArea = require('notebook/js/outputarea').OutputArea;\n",
       "\n",
       "    if (OutputArea.prototype.mime_types().indexOf(EXEC_MIME_TYPE) == -1) {\n",
       "      register_renderer(events, OutputArea);\n",
       "    }\n",
       "  }\n",
       "\n",
       "  \n",
       "  if (typeof (root._bokeh_timeout) === \"undefined\" || force === true) {\n",
       "    root._bokeh_timeout = Date.now() + 5000;\n",
       "    root._bokeh_failed_load = false;\n",
       "  }\n",
       "\n",
       "  var NB_LOAD_WARNING = {'data': {'text/html':\n",
       "     \"<div style='background-color: #fdd'>\\n\"+\n",
       "     \"<p>\\n\"+\n",
       "     \"BokehJS does not appear to have successfully loaded. If loading BokehJS from CDN, this \\n\"+\n",
       "     \"may be due to a slow or bad network connection. Possible fixes:\\n\"+\n",
       "     \"</p>\\n\"+\n",
       "     \"<ul>\\n\"+\n",
       "     \"<li>re-rerun `output_notebook()` to attempt to load from CDN again, or</li>\\n\"+\n",
       "     \"<li>use INLINE resources instead, as so:</li>\\n\"+\n",
       "     \"</ul>\\n\"+\n",
       "     \"<code>\\n\"+\n",
       "     \"from bokeh.resources import INLINE\\n\"+\n",
       "     \"output_notebook(resources=INLINE)\\n\"+\n",
       "     \"</code>\\n\"+\n",
       "     \"</div>\"}};\n",
       "\n",
       "  function display_loaded() {\n",
       "    var el = document.getElementById(null);\n",
       "    if (el != null) {\n",
       "      el.textContent = \"BokehJS is loading...\";\n",
       "    }\n",
       "    if (root.Bokeh !== undefined) {\n",
       "      if (el != null) {\n",
       "        el.textContent = \"BokehJS \" + root.Bokeh.version + \" successfully loaded.\";\n",
       "      }\n",
       "    } else if (Date.now() < root._bokeh_timeout) {\n",
       "      setTimeout(display_loaded, 100)\n",
       "    }\n",
       "  }\n",
       "\n",
       "\n",
       "  function run_callbacks() {\n",
       "    try {\n",
       "      root._bokeh_onload_callbacks.forEach(function(callback) {\n",
       "        if (callback != null)\n",
       "          callback();\n",
       "      });\n",
       "    } finally {\n",
       "      delete root._bokeh_onload_callbacks\n",
       "    }\n",
       "    console.debug(\"Bokeh: all callbacks have finished\");\n",
       "  }\n",
       "\n",
       "  function load_libs(css_urls, js_urls, callback) {\n",
       "    if (css_urls == null) css_urls = [];\n",
       "    if (js_urls == null) js_urls = [];\n",
       "\n",
       "    root._bokeh_onload_callbacks.push(callback);\n",
       "    if (root._bokeh_is_loading > 0) {\n",
       "      console.debug(\"Bokeh: BokehJS is being loaded, scheduling callback at\", now());\n",
       "      return null;\n",
       "    }\n",
       "    if (js_urls == null || js_urls.length === 0) {\n",
       "      run_callbacks();\n",
       "      return null;\n",
       "    }\n",
       "    console.debug(\"Bokeh: BokehJS not loaded, scheduling load and callback at\", now());\n",
       "    root._bokeh_is_loading = css_urls.length + js_urls.length;\n",
       "\n",
       "    function on_load() {\n",
       "      root._bokeh_is_loading--;\n",
       "      if (root._bokeh_is_loading === 0) {\n",
       "        console.debug(\"Bokeh: all BokehJS libraries/stylesheets loaded\");\n",
       "        run_callbacks()\n",
       "      }\n",
       "    }\n",
       "\n",
       "    function on_error() {\n",
       "      console.error(\"failed to load \" + url);\n",
       "    }\n",
       "\n",
       "    for (var i = 0; i < css_urls.length; i++) {\n",
       "      var url = css_urls[i];\n",
       "      const element = document.createElement(\"link\");\n",
       "      element.onload = on_load;\n",
       "      element.onerror = on_error;\n",
       "      element.rel = \"stylesheet\";\n",
       "      element.type = \"text/css\";\n",
       "      element.href = url;\n",
       "      console.debug(\"Bokeh: injecting link tag for BokehJS stylesheet: \", url);\n",
       "      document.body.appendChild(element);\n",
       "    }\n",
       "\n",
       "    const hashes = {\"https://cdn.bokeh.org/bokeh/release/bokeh-2.1.1.min.js\": \"kLr4fYcqcSpbuI95brIH3vnnYCquzzSxHPU6XGQCIkQRGJwhg0StNbj1eegrHs12\", \"https://cdn.bokeh.org/bokeh/release/bokeh-widgets-2.1.1.min.js\": \"xIGPmVtaOm+z0BqfSOMn4lOR6ciex448GIKG4eE61LsAvmGj48XcMQZtKcE/UXZe\", \"https://cdn.bokeh.org/bokeh/release/bokeh-tables-2.1.1.min.js\": \"Dc9u1wF/0zApGIWoBbH77iWEHtdmkuYWG839Uzmv8y8yBLXebjO9ZnERsde5Ln/P\", \"https://cdn.bokeh.org/bokeh/release/bokeh-gl-2.1.1.min.js\": \"cT9JaBz7GiRXdENrJLZNSC6eMNF3nh3fa5fTF51Svp+ukxPdwcU5kGXGPBgDCa2j\"};\n",
       "\n",
       "    for (var i = 0; i < js_urls.length; i++) {\n",
       "      var url = js_urls[i];\n",
       "      var element = document.createElement('script');\n",
       "      element.onload = on_load;\n",
       "      element.onerror = on_error;\n",
       "      element.async = false;\n",
       "      element.src = url;\n",
       "      if (url in hashes) {\n",
       "        element.crossOrigin = \"anonymous\";\n",
       "        element.integrity = \"sha384-\" + hashes[url];\n",
       "      }\n",
       "      console.debug(\"Bokeh: injecting script tag for BokehJS library: \", url);\n",
       "      document.head.appendChild(element);\n",
       "    }\n",
       "  };\n",
       "\n",
       "  function inject_raw_css(css) {\n",
       "    const element = document.createElement(\"style\");\n",
       "    element.appendChild(document.createTextNode(css));\n",
       "    document.body.appendChild(element);\n",
       "  }\n",
       "\n",
       "  \n",
       "  var js_urls = [\"https://cdn.bokeh.org/bokeh/release/bokeh-2.1.1.min.js\", \"https://cdn.bokeh.org/bokeh/release/bokeh-widgets-2.1.1.min.js\", \"https://cdn.bokeh.org/bokeh/release/bokeh-tables-2.1.1.min.js\", \"https://cdn.bokeh.org/bokeh/release/bokeh-gl-2.1.1.min.js\"];\n",
       "  var css_urls = [];\n",
       "  \n",
       "\n",
       "  var inline_js = [\n",
       "    function(Bokeh) {\n",
       "      Bokeh.set_log_level(\"info\");\n",
       "    },\n",
       "    function(Bokeh) {\n",
       "    \n",
       "    \n",
       "    }\n",
       "  ];\n",
       "\n",
       "  function run_inline_js() {\n",
       "    \n",
       "    if (root.Bokeh !== undefined || force === true) {\n",
       "      \n",
       "    for (var i = 0; i < inline_js.length; i++) {\n",
       "      inline_js[i].call(root, root.Bokeh);\n",
       "    }\n",
       "    } else if (Date.now() < root._bokeh_timeout) {\n",
       "      setTimeout(run_inline_js, 100);\n",
       "    } else if (!root._bokeh_failed_load) {\n",
       "      console.log(\"Bokeh: BokehJS failed to load within specified timeout.\");\n",
       "      root._bokeh_failed_load = true;\n",
       "    } else if (force !== true) {\n",
       "      var cell = $(document.getElementById(null)).parents('.cell').data().cell;\n",
       "      cell.output_area.append_execute_result(NB_LOAD_WARNING)\n",
       "    }\n",
       "\n",
       "  }\n",
       "\n",
       "  if (root._bokeh_is_loading === 0) {\n",
       "    console.debug(\"Bokeh: BokehJS loaded, going straight to plotting\");\n",
       "    run_inline_js();\n",
       "  } else {\n",
       "    load_libs(css_urls, js_urls, function() {\n",
       "      console.debug(\"Bokeh: BokehJS plotting callback run at\", now());\n",
       "      run_inline_js();\n",
       "    });\n",
       "  }\n",
       "}(window));"
      ],
      "application/vnd.bokehjs_load.v0+json": "\n(function(root) {\n  function now() {\n    return new Date();\n  }\n\n  var force = true;\n\n  if (typeof root._bokeh_onload_callbacks === \"undefined\" || force === true) {\n    root._bokeh_onload_callbacks = [];\n    root._bokeh_is_loading = undefined;\n  }\n\n  \n\n  \n  if (typeof (root._bokeh_timeout) === \"undefined\" || force === true) {\n    root._bokeh_timeout = Date.now() + 5000;\n    root._bokeh_failed_load = false;\n  }\n\n  var NB_LOAD_WARNING = {'data': {'text/html':\n     \"<div style='background-color: #fdd'>\\n\"+\n     \"<p>\\n\"+\n     \"BokehJS does not appear to have successfully loaded. If loading BokehJS from CDN, this \\n\"+\n     \"may be due to a slow or bad network connection. Possible fixes:\\n\"+\n     \"</p>\\n\"+\n     \"<ul>\\n\"+\n     \"<li>re-rerun `output_notebook()` to attempt to load from CDN again, or</li>\\n\"+\n     \"<li>use INLINE resources instead, as so:</li>\\n\"+\n     \"</ul>\\n\"+\n     \"<code>\\n\"+\n     \"from bokeh.resources import INLINE\\n\"+\n     \"output_notebook(resources=INLINE)\\n\"+\n     \"</code>\\n\"+\n     \"</div>\"}};\n\n  function display_loaded() {\n    var el = document.getElementById(null);\n    if (el != null) {\n      el.textContent = \"BokehJS is loading...\";\n    }\n    if (root.Bokeh !== undefined) {\n      if (el != null) {\n        el.textContent = \"BokehJS \" + root.Bokeh.version + \" successfully loaded.\";\n      }\n    } else if (Date.now() < root._bokeh_timeout) {\n      setTimeout(display_loaded, 100)\n    }\n  }\n\n\n  function run_callbacks() {\n    try {\n      root._bokeh_onload_callbacks.forEach(function(callback) {\n        if (callback != null)\n          callback();\n      });\n    } finally {\n      delete root._bokeh_onload_callbacks\n    }\n    console.debug(\"Bokeh: all callbacks have finished\");\n  }\n\n  function load_libs(css_urls, js_urls, callback) {\n    if (css_urls == null) css_urls = [];\n    if (js_urls == null) js_urls = [];\n\n    root._bokeh_onload_callbacks.push(callback);\n    if (root._bokeh_is_loading > 0) {\n      console.debug(\"Bokeh: BokehJS is being loaded, scheduling callback at\", now());\n      return null;\n    }\n    if (js_urls == null || js_urls.length === 0) {\n      run_callbacks();\n      return null;\n    }\n    console.debug(\"Bokeh: BokehJS not loaded, scheduling load and callback at\", now());\n    root._bokeh_is_loading = css_urls.length + js_urls.length;\n\n    function on_load() {\n      root._bokeh_is_loading--;\n      if (root._bokeh_is_loading === 0) {\n        console.debug(\"Bokeh: all BokehJS libraries/stylesheets loaded\");\n        run_callbacks()\n      }\n    }\n\n    function on_error() {\n      console.error(\"failed to load \" + url);\n    }\n\n    for (var i = 0; i < css_urls.length; i++) {\n      var url = css_urls[i];\n      const element = document.createElement(\"link\");\n      element.onload = on_load;\n      element.onerror = on_error;\n      element.rel = \"stylesheet\";\n      element.type = \"text/css\";\n      element.href = url;\n      console.debug(\"Bokeh: injecting link tag for BokehJS stylesheet: \", url);\n      document.body.appendChild(element);\n    }\n\n    const hashes = {\"https://cdn.bokeh.org/bokeh/release/bokeh-2.1.1.min.js\": \"kLr4fYcqcSpbuI95brIH3vnnYCquzzSxHPU6XGQCIkQRGJwhg0StNbj1eegrHs12\", \"https://cdn.bokeh.org/bokeh/release/bokeh-widgets-2.1.1.min.js\": \"xIGPmVtaOm+z0BqfSOMn4lOR6ciex448GIKG4eE61LsAvmGj48XcMQZtKcE/UXZe\", \"https://cdn.bokeh.org/bokeh/release/bokeh-tables-2.1.1.min.js\": \"Dc9u1wF/0zApGIWoBbH77iWEHtdmkuYWG839Uzmv8y8yBLXebjO9ZnERsde5Ln/P\", \"https://cdn.bokeh.org/bokeh/release/bokeh-gl-2.1.1.min.js\": \"cT9JaBz7GiRXdENrJLZNSC6eMNF3nh3fa5fTF51Svp+ukxPdwcU5kGXGPBgDCa2j\"};\n\n    for (var i = 0; i < js_urls.length; i++) {\n      var url = js_urls[i];\n      var element = document.createElement('script');\n      element.onload = on_load;\n      element.onerror = on_error;\n      element.async = false;\n      element.src = url;\n      if (url in hashes) {\n        element.crossOrigin = \"anonymous\";\n        element.integrity = \"sha384-\" + hashes[url];\n      }\n      console.debug(\"Bokeh: injecting script tag for BokehJS library: \", url);\n      document.head.appendChild(element);\n    }\n  };\n\n  function inject_raw_css(css) {\n    const element = document.createElement(\"style\");\n    element.appendChild(document.createTextNode(css));\n    document.body.appendChild(element);\n  }\n\n  \n  var js_urls = [\"https://cdn.bokeh.org/bokeh/release/bokeh-2.1.1.min.js\", \"https://cdn.bokeh.org/bokeh/release/bokeh-widgets-2.1.1.min.js\", \"https://cdn.bokeh.org/bokeh/release/bokeh-tables-2.1.1.min.js\", \"https://cdn.bokeh.org/bokeh/release/bokeh-gl-2.1.1.min.js\"];\n  var css_urls = [];\n  \n\n  var inline_js = [\n    function(Bokeh) {\n      Bokeh.set_log_level(\"info\");\n    },\n    function(Bokeh) {\n    \n    \n    }\n  ];\n\n  function run_inline_js() {\n    \n    if (root.Bokeh !== undefined || force === true) {\n      \n    for (var i = 0; i < inline_js.length; i++) {\n      inline_js[i].call(root, root.Bokeh);\n    }\n    } else if (Date.now() < root._bokeh_timeout) {\n      setTimeout(run_inline_js, 100);\n    } else if (!root._bokeh_failed_load) {\n      console.log(\"Bokeh: BokehJS failed to load within specified timeout.\");\n      root._bokeh_failed_load = true;\n    } else if (force !== true) {\n      var cell = $(document.getElementById(null)).parents('.cell').data().cell;\n      cell.output_area.append_execute_result(NB_LOAD_WARNING)\n    }\n\n  }\n\n  if (root._bokeh_is_loading === 0) {\n    console.debug(\"Bokeh: BokehJS loaded, going straight to plotting\");\n    run_inline_js();\n  } else {\n    load_libs(css_urls, js_urls, function() {\n      console.debug(\"Bokeh: BokehJS plotting callback run at\", now());\n      run_inline_js();\n    });\n  }\n}(window));"
     },
     "metadata": {
      "tags": []
     },
     "output_type": "display_data"
    },
    {
     "data": {
      "text/html": [
       "\n",
       "\n",
       "\n",
       "\n",
       "\n",
       "\n",
       "  <div class=\"bk-root\" id=\"b1b83e9d-2423-415d-9e43-fee429349a1c\" data-root-id=\"1309\"></div>\n"
      ]
     },
     "metadata": {
      "tags": []
     },
     "output_type": "display_data"
    },
    {
     "data": {
      "application/javascript": [
       "(function(root) {\n",
       "  function embed_document(root) {\n",
       "    \n",
       "  var docs_json = {\"8a7a2e51-e17e-4ccb-9d96-4342c6f12ab9\":{\"roots\":{\"references\":[{\"attributes\":{\"below\":[{\"id\":\"1320\"}],\"center\":[{\"id\":\"1323\"},{\"id\":\"1327\"}],\"left\":[{\"id\":\"1324\"}],\"renderers\":[{\"id\":\"1345\"}],\"title\":{\"id\":\"1310\"},\"toolbar\":{\"id\":\"1335\"},\"x_range\":{\"id\":\"1312\"},\"x_scale\":{\"id\":\"1316\"},\"y_range\":{\"id\":\"1314\"},\"y_scale\":{\"id\":\"1318\"}},\"id\":\"1309\",\"subtype\":\"Figure\",\"type\":\"Plot\"},{\"attributes\":{\"line_alpha\":0.1,\"line_color\":\"#1f77b4\",\"x\":{\"field\":\"x\"},\"y\":{\"field\":\"y\"}},\"id\":\"1344\",\"type\":\"Line\"},{\"attributes\":{},\"id\":\"1325\",\"type\":\"BasicTicker\"},{\"attributes\":{},\"id\":\"1349\",\"type\":\"BasicTickFormatter\"},{\"attributes\":{\"axis\":{\"id\":\"1324\"},\"dimension\":1,\"ticker\":null},\"id\":\"1327\",\"type\":\"Grid\"},{\"attributes\":{},\"id\":\"1351\",\"type\":\"BasicTickFormatter\"},{\"attributes\":{\"data_source\":{\"id\":\"1342\"},\"glyph\":{\"id\":\"1343\"},\"hover_glyph\":null,\"muted_glyph\":null,\"nonselection_glyph\":{\"id\":\"1344\"},\"selection_glyph\":null,\"view\":{\"id\":\"1346\"}},\"id\":\"1345\",\"type\":\"GlyphRenderer\"},{\"attributes\":{},\"id\":\"1353\",\"type\":\"UnionRenderers\"},{\"attributes\":{},\"id\":\"1328\",\"type\":\"PanTool\"},{\"attributes\":{},\"id\":\"1352\",\"type\":\"Selection\"},{\"attributes\":{},\"id\":\"1329\",\"type\":\"WheelZoomTool\"},{\"attributes\":{\"overlay\":{\"id\":\"1334\"}},\"id\":\"1330\",\"type\":\"BoxZoomTool\"},{\"attributes\":{},\"id\":\"1314\",\"type\":\"DataRange1d\"},{\"attributes\":{},\"id\":\"1331\",\"type\":\"SaveTool\"},{\"attributes\":{},\"id\":\"1312\",\"type\":\"DataRange1d\"},{\"attributes\":{},\"id\":\"1332\",\"type\":\"ResetTool\"},{\"attributes\":{},\"id\":\"1333\",\"type\":\"HelpTool\"},{\"attributes\":{},\"id\":\"1318\",\"type\":\"LinearScale\"},{\"attributes\":{\"active_drag\":\"auto\",\"active_inspect\":\"auto\",\"active_multi\":null,\"active_scroll\":\"auto\",\"active_tap\":\"auto\",\"tools\":[{\"id\":\"1328\"},{\"id\":\"1329\"},{\"id\":\"1330\"},{\"id\":\"1331\"},{\"id\":\"1332\"},{\"id\":\"1333\"}]},\"id\":\"1335\",\"type\":\"Toolbar\"},{\"attributes\":{\"text\":\"Probabilidad de obtener 1 con 1 tiro\"},\"id\":\"1310\",\"type\":\"Title\"},{\"attributes\":{\"data\":{\"x\":[0,1,2,3,4,5,6,7,8,9,10,11,12,13,14,15,16,17,18,19,20,21,22,23,24,25,26,27,28,29,30,31,32,33,34,35,36,37,38,39,40,41,42,43,44,45,46,47,48,49,50,51,52,53,54,55,56,57,58,59,60,61,62,63,64,65,66,67,68,69,70,71,72,73,74,75,76,77,78,79,80,81,82,83,84,85,86,87,88,89,90,91,92,93,94,95,96,97,98,99],\"y\":[1.0,0.5,0.3333333333333333,0.25,0.4,0.3333333333333333,0.2857142857142857,0.25,0.2222222222222222,0.3,0.36363636363636365,0.3333333333333333,0.3076923076923077,0.2857142857142857,0.3333333333333333,0.3125,0.29411764705882354,0.2777777777777778,0.2631578947368421,0.25,0.23809523809523808,0.2727272727272727,0.2608695652173913,0.25,0.24,0.23076923076923078,0.2222222222222222,0.21428571428571427,0.20689655172413793,0.2,0.1935483870967742,0.1875,0.18181818181818182,0.17647058823529413,0.17142857142857143,0.16666666666666666,0.16216216216216217,0.15789473684210525,0.1794871794871795,0.175,0.1951219512195122,0.19047619047619047,0.18604651162790697,0.18181818181818182,0.2,0.1956521739130435,0.2127659574468085,0.20833333333333334,0.20408163265306123,0.2,0.19607843137254902,0.19230769230769232,0.20754716981132076,0.2037037037037037,0.2,0.21428571428571427,0.21052631578947367,0.20689655172413793,0.22033898305084745,0.21666666666666667,0.21311475409836064,0.20967741935483872,0.20634920634920634,0.203125,0.2,0.19696969696969696,0.208955223880597,0.20588235294117646,0.2028985507246377,0.2,0.19718309859154928,0.19444444444444445,0.1917808219178082,0.1891891891891892,0.18666666666666668,0.18421052631578946,0.18181818181818182,0.1794871794871795,0.17721518987341772,0.175,0.1728395061728395,0.17073170731707318,0.1686746987951807,0.16666666666666666,0.16470588235294117,0.16279069767441862,0.16091954022988506,0.1590909090909091,0.16853932584269662,0.16666666666666666,0.16483516483516483,0.16304347826086957,0.16129032258064516,0.1595744680851064,0.15789473684210525,0.15625,0.15463917525773196,0.15306122448979592,0.16161616161616163,0.16]},\"selected\":{\"id\":\"1352\"},\"selection_policy\":{\"id\":\"1353\"}},\"id\":\"1342\",\"type\":\"ColumnDataSource\"},{\"attributes\":{},\"id\":\"1316\",\"type\":\"LinearScale\"},{\"attributes\":{\"axis_label\":\"intentos\",\"formatter\":{\"id\":\"1349\"},\"ticker\":{\"id\":\"1321\"}},\"id\":\"1320\",\"type\":\"LinearAxis\"},{\"attributes\":{\"bottom_units\":\"screen\",\"fill_alpha\":0.5,\"fill_color\":\"lightgrey\",\"left_units\":\"screen\",\"level\":\"overlay\",\"line_alpha\":1.0,\"line_color\":\"black\",\"line_dash\":[4,4],\"line_width\":2,\"right_units\":\"screen\",\"top_units\":\"screen\"},\"id\":\"1334\",\"type\":\"BoxAnnotation\"},{\"attributes\":{},\"id\":\"1321\",\"type\":\"BasicTicker\"},{\"attributes\":{\"axis\":{\"id\":\"1320\"},\"ticker\":null},\"id\":\"1323\",\"type\":\"Grid\"},{\"attributes\":{\"line_color\":\"#1f77b4\",\"x\":{\"field\":\"x\"},\"y\":{\"field\":\"y\"}},\"id\":\"1343\",\"type\":\"Line\"},{\"attributes\":{\"axis_label\":\"probabilidades\",\"formatter\":{\"id\":\"1351\"},\"ticker\":{\"id\":\"1325\"}},\"id\":\"1324\",\"type\":\"LinearAxis\"},{\"attributes\":{\"source\":{\"id\":\"1342\"}},\"id\":\"1346\",\"type\":\"CDSView\"}],\"root_ids\":[\"1309\"]},\"title\":\"Bokeh Application\",\"version\":\"2.1.1\"}};\n",
       "  var render_items = [{\"docid\":\"8a7a2e51-e17e-4ccb-9d96-4342c6f12ab9\",\"root_ids\":[\"1309\"],\"roots\":{\"1309\":\"b1b83e9d-2423-415d-9e43-fee429349a1c\"}}];\n",
       "  root.Bokeh.embed.embed_items_notebook(docs_json, render_items);\n",
       "\n",
       "  }\n",
       "  if (root.Bokeh !== undefined) {\n",
       "    embed_document(root);\n",
       "  } else {\n",
       "    var attempts = 0;\n",
       "    var timer = setInterval(function(root) {\n",
       "      if (root.Bokeh !== undefined) {\n",
       "        clearInterval(timer);\n",
       "        embed_document(root);\n",
       "      } else {\n",
       "        attempts++;\n",
       "        if (attempts > 100) {\n",
       "          clearInterval(timer);\n",
       "          console.log(\"Bokeh: ERROR: Unable to run BokehJS code because BokehJS library is missing\");\n",
       "        }\n",
       "      }\n",
       "    }, 10, root)\n",
       "  }\n",
       "})(window);"
      ],
      "application/vnd.bokehjs_exec.v0+json": ""
     },
     "metadata": {
      "application/vnd.bokehjs_exec.v0+json": {
       "id": "1309"
      },
      "tags": []
     },
     "output_type": "display_data"
    }
   ],
   "source": [
    "# Probabilidades\n",
    "\n",
    "from random import randint, choice\n",
    "import random\n",
    "from bokeh.plotting import figure, show\n",
    "from bokeh.io import output_notebook, export_png\n",
    "output_notebook()\n",
    "\n",
    "def tirar_dado(tiros):\n",
    "    lista_tiros = []\n",
    "    for _ in range(tiros):\n",
    "        lista_tiros.append(random.choice([1,2,3,4,5,6]))\n",
    "    return lista_tiros\n",
    "\n",
    "def calculo_probabilidad(tiros_totales):\n",
    "    probabilidades = []\n",
    "    tiro_1 = 0\n",
    "    for tiros in tiros_totales:\n",
    "        if 1 in tiros:\n",
    "            tiro_1 +=1\n",
    "    return tiro_1 / len(tiros_totales)\n",
    "        \n",
    "    \n",
    "def plot(intentos, probabilidades):\n",
    "    plot = figure(\n",
    "        title = \"Probabilidad de obtener 1 con 1 tiro\",\n",
    "        x_axis_label = \"intentos\",\n",
    "        y_axis_label = \"probabilidades\"\n",
    "    )\n",
    "    plot.line(intentos, probabilidades)\n",
    "    show(plot)\n",
    "    #exportando como imagen\n",
    "    #export_png(plot, filename=\"probabilidad1.png\")\n",
    "    \n",
    "\n",
    "\n",
    "def main(tiros, intentos):\n",
    "    # tiros * intentos\n",
    "    tiros_por_intento = []\n",
    "    probabilidades =[]\n",
    "    escala = [x for x in range(0,intentos)]\n",
    "    \n",
    "    for _ in range (intentos):\n",
    "        tiros_por_intento.append(tirar_dado(tiros))\n",
    "        probabilidades.append(calculo_probabilidad(tiros_por_intento))\n",
    "        \n",
    "    plot(escala, probabilidades)\n",
    "    \n",
    "    \n",
    "\n",
    "    \n",
    "numero_tiros = int(input(\"Numero de tiros del dado: \"))\n",
    "## veces que correra la simulacion\n",
    "numero_intentos = int(input(\"Numero de intentos :\"))\n",
    "\n",
    "main(numero_tiros, numero_intentos)\n"
   ]
  },
  {
   "cell_type": "code",
   "execution_count": null,
   "metadata": {
    "id": "u8XlBw0zSPJj"
   },
   "outputs": [],
   "source": [
    "# Usasndo distribucion binomial\r\n",
    "\r\n",
    "import numpy as np\r\n",
    "from numpy.random import binomial\r\n",
    "from scipy.stats import binom\r\n",
    "from math import factorial\r\n",
    "import matplotlib.pyplot as plt\r\n"
   ]
  },
  {
   "cell_type": "markdown",
   "metadata": {
    "id": "ytD-U4nzTvOa"
   },
   "source": [
    "# Secuencias tipo Bernuli\r\n",
    "\r\n",
    "**Distribucion binomial**\r\n",
    "$$P(k,n;p)=\\begin{pmatrix}\r\n",
    "n \\\\\r\n",
    "k \\\\\r\n",
    "\\end{pmatrix}p^k(1-p)^{n-k}=\\frac{n!}{k!(n-k)!}p^k(1-p)^{n-k}$$\r\n",
    "\r\n",
    "\r\n",
    "**Probabilidades acumuladas**\r\n",
    "$$P(k\\leq2, n=3, p=1/2)=\\sum_{k=0}^{2}{\\frac{n!}{k!(n-k)!}p^k(1-p)^{n-k}}$$\r\n",
    "\r\n",
    "* k numero de exitos\r\n",
    "* n numero de lanzamientos\r\n",
    "* p probabilidad de exito"
   ]
  },
  {
   "cell_type": "code",
   "execution_count": null,
   "metadata": {
    "colab": {
     "base_uri": "https://localhost:8080/"
    },
    "executionInfo": {
     "elapsed": 254,
     "status": "ok",
     "timestamp": 1613708354239,
     "user": {
      "displayName": "Miguel Angel Castillo",
      "photoUrl": "https://lh3.googleusercontent.com/a-/AOh14Gh4hyUbr2m41WcjcOqUnBGGKF6nQz3u9z6NaQ523Q=s64",
      "userId": "07217403021476701761"
     },
     "user_tz": 360
    },
    "id": "tDydwoqfTuRy",
    "outputId": "359250c5-9c4d-4bfb-d690-4ed5749d0c71"
   },
   "outputs": [
    {
     "name": "stdout",
     "output_type": "stream",
     "text": [
      "Formas de obtener la distibucion binomial\n",
      "Uso de funcion:\t\t 0.375\n",
      "Por libreria externa:\t 0.375\n"
     ]
    }
   ],
   "source": [
    "def mi_binomial(k, n, p ):\r\n",
    "    \"\"\"Resultado segun la ecuacion de Bernuli\"\"\"\r\n",
    "    return factorial(n)/(factorial(k)*factorial(n-k))*pow(p,k)*pow(1-p, n-k)\r\n",
    "\r\n",
    "print(\"Formas de obtener la distibucion binomial\")\r\n",
    "print(\"Uso de funcion:\\t\\t\",mi_binomial(2,3,0.5))\r\n",
    "\r\n",
    "\r\n",
    "\r\n",
    "dist = binom(3, 0.5)#3 intentos probabilidad de 0.5\r\n",
    "print(\"Por libreria externa:\\t\",dist.pmf(2)) #probability mass funtion (2 exitos)\r\n",
    "\r\n"
   ]
  },
  {
   "cell_type": "code",
   "execution_count": null,
   "metadata": {
    "colab": {
     "base_uri": "https://localhost:8080/"
    },
    "executionInfo": {
     "elapsed": 276,
     "status": "ok",
     "timestamp": 1613708355555,
     "user": {
      "displayName": "Miguel Angel Castillo",
      "photoUrl": "https://lh3.googleusercontent.com/a-/AOh14Gh4hyUbr2m41WcjcOqUnBGGKF6nQz3u9z6NaQ523Q=s64",
      "userId": "07217403021476701761"
     },
     "user_tz": 360
    },
    "id": "AXOdc9gRXa-N",
    "outputId": "6b6d2112-d7c3-4b0c-a97c-e8a73ce6da63"
   },
   "outputs": [
    {
     "name": "stdout",
     "output_type": "stream",
     "text": [
      "0.375\n",
      "0.875\n"
     ]
    }
   ],
   "source": [
    "# Uso exclusivo de los metodos de las funciones de probabilidad\r\n",
    "\r\n",
    "dist = binom(3, 0.5) \r\n",
    "# Densidad de probabilidad o probability mass funtion\r\n",
    "print(dist.pmf(2)) \r\n",
    "\r\n",
    "# Funcion de densidad acumulada, Cumulative density funtion\r\n",
    "print(dist.cdf(2))\r\n"
   ]
  },
  {
   "cell_type": "markdown",
   "metadata": {
    "id": "7dXoOZPWcZeP"
   },
   "source": [
    "## Simulacion de sequencias con generadores aleatorios\r\n",
    "_Los generadores aleatorios tienen como proposito simular muestras de datos que resultarian de muestreos en la vida real de procesos aleatorios como lanzar una moneda o un dado_\r\n"
   ]
  },
  {
   "cell_type": "code",
   "execution_count": null,
   "metadata": {
    "colab": {
     "base_uri": "https://localhost:8080/",
     "height": 52
    },
    "executionInfo": {
     "elapsed": 288,
     "status": "ok",
     "timestamp": 1613710970012,
     "user": {
      "displayName": "Miguel Angel Castillo",
      "photoUrl": "https://lh3.googleusercontent.com/a-/AOh14Gh4hyUbr2m41WcjcOqUnBGGKF6nQz3u9z6NaQ523Q=s64",
      "userId": "07217403021476701761"
     },
     "user_tz": 360
    },
    "id": "CIFDn2xDiIgb",
    "outputId": "028e4578-6fef-40a2-ba98-b761ef4a0f9f"
   },
   "outputs": [
    {
     "data": {
      "application/vnd.google.colaboratory.intrinsic+json": {
       "type": "string"
      },
      "text/plain": [
       "'\\nls =[randint(1,10) for _ in range(100)]\\n\\n#Cuenta todos los elementos repetidos en una lista\\nnp.unique(ls , return_counts=True) #arreglo / numero apariciones del c/u\\n\\n\\n# Generador aleatorio\\nprint(binomial(n, p))\\n\\nprint(np.unique(ls, return_counts=True)[1]/len(ls))\\n\\n'"
      ]
     },
     "execution_count": 77,
     "metadata": {
      "tags": []
     },
     "output_type": "execute_result"
    }
   ],
   "source": [
    "from random import randint\r\n",
    "import numpy as np\r\n",
    "\r\n",
    "\"\"\"\r\n",
    "ls =[randint(1,10) for _ in range(100)]\r\n",
    "\r\n",
    "#Cuenta todos los elementos repetidos en una lista\r\n",
    "np.unique(ls , return_counts=True) #arreglo / numero apariciones del c/u\r\n",
    "\r\n",
    "\r\n",
    "# Generador aleatorio\r\n",
    "print(binomial(n, p))\r\n",
    "\r\n",
    "print(np.unique(ls, return_counts=True)[1]/len(ls))\r\n",
    "\r\n",
    "\"\"\""
   ]
  },
  {
   "cell_type": "code",
   "execution_count": null,
   "metadata": {
    "colab": {
     "base_uri": "https://localhost:8080/",
     "height": 1000
    },
    "executionInfo": {
     "elapsed": 1195,
     "status": "ok",
     "timestamp": 1613710974079,
     "user": {
      "displayName": "Miguel Angel Castillo",
      "photoUrl": "https://lh3.googleusercontent.com/a-/AOh14Gh4hyUbr2m41WcjcOqUnBGGKF6nQz3u9z6NaQ523Q=s64",
      "userId": "07217403021476701761"
     },
     "user_tz": 360
    },
    "id": "q5BiDaAPa6F0",
    "outputId": "c7068021-a0c3-4d35-e6d6-01d93d30447a"
   },
   "outputs": [
    {
     "data": {
      "image/png": "[encoded data removed]",
      "text/plain": [
       "<Figure size 432x288 with 1 Axes>"
      ]
     },
     "metadata": {
      "needs_background": "light",
      "tags": []
     },
     "output_type": "display_data"
    },
    {
     "data": {
      "image/png": "[encoded data removed]",
      "text/plain": [
       "<Figure size 432x288 with 1 Axes>"
      ]
     },
     "metadata": {
      "needs_background": "light",
      "tags": []
     },
     "output_type": "display_data"
    },
    {
     "data": {
      "image/png": "[encoded data removed]",
      "text/plain": [
       "<Figure size 432x288 with 1 Axes>"
      ]
     },
     "metadata": {
      "needs_background": "light",
      "tags": []
     },
     "output_type": "display_data"
    },
    {
     "data": {
      "image/png": "[encoded data removed]",
      "text/plain": [
       "<Figure size 432x288 with 1 Axes>"
      ]
     },
     "metadata": {
      "needs_background": "light",
      "tags": []
     },
     "output_type": "display_data"
    }
   ],
   "source": [
    "# Simulacion:\r\n",
    "\r\n",
    "p =0.5\r\n",
    "n =3\r\n",
    "\r\n",
    "# Simulacion de 100 lanzamientos\r\n",
    "\r\n",
    "def plot_hist(num_trials):\r\n",
    "    values=[0,1,2,3] # De 3 lanzamientos proba de conseguir una cara\r\n",
    "    arr = []\r\n",
    "    for _ in range(num_trials):\r\n",
    "        arr.append(binomial(n,p))\r\n",
    "    \r\n",
    "    # Distribucion simulada  d_sim\r\n",
    "    # Distribucion teorica   d_teor\r\n",
    "    d_sim = np.unique(arr, return_counts=True)[1]/len(arr)\r\n",
    "    d_teor = [binom(3, 0.5).pmf(k) for k in values]\r\n",
    "    \r\n",
    "    # Grafica\r\n",
    "    plt.bar(values, d_sim, color=\"red\")\r\n",
    "    plt.bar(values, d_teor, alpha=0.8, color = \"blue\")\r\n",
    "    plt.title(f\"{num_trials} experimentos\")\r\n",
    "    plt.show()\r\n",
    "\r\n",
    "plot_hist(10)\r\n",
    "plot_hist(100)\r\n",
    "plot_hist(1000)\r\n",
    "plot_hist(10000)\r\n"
   ]
  },
  {
   "cell_type": "markdown",
   "metadata": {
    "id": "pbAVtiRDG9r5"
   },
   "source": [
    "# Distribucion normal o teorica\r\n",
    "\r\n",
    "Conocida tambine como gauseanea\\\r\n",
    "_Definida como:_\r\n",
    "\r\n",
    "\r\n",
    "\r\n",
    "$$P(x) = \\frac{1}{\\sigma \\sqrt{2\\pi}} \\exp\r\n",
    "\\left[-\\frac{1}{2}\\left(\\frac{X-\\mu}{\\sigma}\\right)^2\\right]$$\r\n",
    "\r\n",
    "* $\\mu$: media de la distribucion\r\n",
    "* $\\sigma$: desviacion estandar de la distribucion\r\n",
    "\r\n"
   ]
  },
  {
   "cell_type": "code",
   "execution_count": null,
   "metadata": {
    "id": "SGjTly6HhQjc"
   },
   "outputs": [],
   "source": [
    "import pandas as pd\r\n",
    "import numpy as np\r\n",
    "import matplotlib.pyplot as plt\r\n",
    "from scipy.stats import norm\r\n",
    "\r\n"
   ]
  },
  {
   "cell_type": "code",
   "execution_count": null,
   "metadata": {
    "colab": {
     "base_uri": "https://localhost:8080/",
     "height": 282
    },
    "executionInfo": {
     "elapsed": 452,
     "status": "ok",
     "timestamp": 1613954758872,
     "user": {
      "displayName": "Miguel Angel Castillo",
      "photoUrl": "https://lh3.googleusercontent.com/a-/AOh14Gh4hyUbr2m41WcjcOqUnBGGKF6nQz3u9z6NaQ523Q=s64",
      "userId": "07217403021476701761"
     },
     "user_tz": 360
    },
    "id": "saozY1ahcYcA",
    "outputId": "9c6d3dba-2b8f-4bf0-a6c3-90f13bdeaf1f"
   },
   "outputs": [
    {
     "data": {
      "text/plain": [
       "[<matplotlib.lines.Line2D at 0x7fc2e1501f28>]"
      ]
     },
     "execution_count": 4,
     "metadata": {
      "tags": []
     },
     "output_type": "execute_result"
    },
    {
     "data": {
      "image/png": "[encoded data removed]",
      "text/plain": [
       "<Figure size 432x288 with 1 Axes>"
      ]
     },
     "metadata": {
      "needs_background": "light",
      "tags": []
     },
     "output_type": "display_data"
    }
   ],
   "source": [
    "# Definiendo la distribucion con un funcion\r\n",
    "def gausean(x, mu, sigma):\r\n",
    "    return 1/(sigma*np.sqrt(2*np.pi))*np.exp(-0.5*pow((x-mu)/sigma,2))\r\n",
    "\r\n",
    "## Probando la funcion gaussean\r\n",
    "x = np.arange(-4, 4, 0.1)\r\n",
    "y = gausean(x, 0, 1)\r\n",
    "plt.plot(x, y)"
   ]
  },
  {
   "cell_type": "code",
   "execution_count": null,
   "metadata": {
    "colab": {
     "base_uri": "https://localhost:8080/",
     "height": 282
    },
    "executionInfo": {
     "elapsed": 524,
     "status": "ok",
     "timestamp": 1613954859630,
     "user": {
      "displayName": "Miguel Angel Castillo",
      "photoUrl": "https://lh3.googleusercontent.com/a-/AOh14Gh4hyUbr2m41WcjcOqUnBGGKF6nQz3u9z6NaQ523Q=s64",
      "userId": "07217403021476701761"
     },
     "user_tz": 360
    },
    "id": "cP43CImzMiPG",
    "outputId": "194cdf8b-b760-428b-9562-9638dacb30f3"
   },
   "outputs": [
    {
     "data": {
      "text/plain": [
       "[<matplotlib.lines.Line2D at 0x7fc2d97cc8d0>]"
      ]
     },
     "execution_count": 5,
     "metadata": {
      "tags": []
     },
     "output_type": "execute_result"
    },
    {
     "data": {
      "image/png": "[encoded data removed]",
      "text/plain": [
       "<Figure size 432x288 with 1 Axes>"
      ]
     },
     "metadata": {
      "needs_background": "light",
      "tags": []
     },
     "output_type": "display_data"
    }
   ],
   "source": [
    "# Usando scipy\r\n",
    "\r\n",
    "dist =norm(0,1)\r\n",
    "x = np.arange(-4, 4 ,0.1)\r\n",
    "y = [dist.pdf(value) for value in x]\r\n",
    "plt.plot(x, y)"
   ]
  },
  {
   "cell_type": "code",
   "execution_count": null,
   "metadata": {
    "colab": {
     "base_uri": "https://localhost:8080/",
     "height": 282
    },
    "executionInfo": {
     "elapsed": 442,
     "status": "ok",
     "timestamp": 1613960329198,
     "user": {
      "displayName": "Miguel Angel Castillo",
      "photoUrl": "https://lh3.googleusercontent.com/a-/AOh14Gh4hyUbr2m41WcjcOqUnBGGKF6nQz3u9z6NaQ523Q=s64",
      "userId": "07217403021476701761"
     },
     "user_tz": 360
    },
    "id": "BnZwq4U-NL_m",
    "outputId": "3c71616e-4747-4fa1-f3d6-8c24845309a5"
   },
   "outputs": [
    {
     "data": {
      "text/plain": [
       "[<matplotlib.lines.Line2D at 0x7fc2d9726be0>]"
      ]
     },
     "execution_count": 6,
     "metadata": {
      "tags": []
     },
     "output_type": "execute_result"
    },
    {
     "data": {
      "image/png": "[encoded data removed]",
      "text/plain": [
       "<Figure size 432x288 with 1 Axes>"
      ]
     },
     "metadata": {
      "needs_background": "light",
      "tags": []
     },
     "output_type": "display_data"
    }
   ],
   "source": [
    "# Calculo de la distribucion acumulada\r\n",
    "dist = norm(0,1)\r\n",
    "x = np.arange(-4,4,0.1)\r\n",
    "y = [dist.cdf(value) for value in x]\r\n",
    "plt.plot(x,y)"
   ]
  },
  {
   "cell_type": "markdown",
   "metadata": {
    "id": "2UTs_t9hjmw1"
   },
   "source": [
    "## Distribucion normal (guaseana) a partir de datos\r\n",
    "\r\n",
    "* Datos obtenidos de la siguiente pagina:\r\n",
    "    https://seattlecentral.edu/qelp/sets/057/057.html\r\n",
    "    \r\n"
   ]
  },
  {
   "cell_type": "code",
   "execution_count": null,
   "metadata": {
    "colab": {
     "base_uri": "https://localhost:8080/"
    },
    "executionInfo": {
     "elapsed": 438,
     "status": "ok",
     "timestamp": 1613961660629,
     "user": {
      "displayName": "Miguel Angel Castillo",
      "photoUrl": "https://lh3.googleusercontent.com/a-/AOh14Gh4hyUbr2m41WcjcOqUnBGGKF6nQz3u9z6NaQ523Q=s64",
      "userId": "07217403021476701761"
     },
     "user_tz": 360
    },
    "id": "M-FuAXA_iDWs",
    "outputId": "34195294-635f-4f05-af54-ec0a2f3fd24b"
   },
   "outputs": [
    {
     "name": "stdout",
     "output_type": "stream",
     "text": [
      "    Normally Distributed Housefly Wing Lengths  ...  Unnamed: 3\n",
      "0          Sokal, R.R., and P.E.Hunter. 1955.   ...         NaN\n",
      "1                                          NaN  ...         NaN\n",
      "2                               length (x.1mm)  ...         NaN\n",
      "3                                           36  ...   Frequency\n",
      "4                                           37  ...           2\n",
      "..                                         ...  ...         ...\n",
      "98                                          52  ...         NaN\n",
      "99                                          53  ...         NaN\n",
      "100                                         53  ...         NaN\n",
      "101                                         54  ...         NaN\n",
      "102                                         55  ...         NaN\n",
      "\n",
      "[103 rows x 4 columns]\n"
     ]
    }
   ],
   "source": [
    "# comprobacion que que existe el dataframe\r\n",
    "df = pd.read_excel(\"s057.xls\")\r\n",
    "print(df)"
   ]
  },
  {
   "cell_type": "code",
   "execution_count": null,
   "metadata": {
    "colab": {
     "base_uri": "https://localhost:8080/",
     "height": 299
    },
    "executionInfo": {
     "elapsed": 483,
     "status": "ok",
     "timestamp": 1613962031898,
     "user": {
      "displayName": "Miguel Angel Castillo",
      "photoUrl": "https://lh3.googleusercontent.com/a-/AOh14Gh4hyUbr2m41WcjcOqUnBGGKF6nQz3u9z6NaQ523Q=s64",
      "userId": "07217403021476701761"
     },
     "user_tz": 360
    },
    "id": "-wO543kNnIaO",
    "outputId": "5d6bbb5c-36b6-4f26-fa3b-fcafd10dbbe3"
   },
   "outputs": [
    {
     "name": "stdout",
     "output_type": "stream",
     "text": [
      "[37 38 39 40 41 42 43 44 45 46 47 48 49 50 51 52 53 54 55]\n"
     ]
    },
    {
     "data": {
      "text/plain": [
       "<BarContainer object of 19 artists>"
      ]
     },
     "execution_count": 11,
     "metadata": {
      "tags": []
     },
     "output_type": "execute_result"
    },
    {
     "data": {
      "image/png": "[encoded data removed]",
      "text/plain": [
       "<Figure size 432x288 with 1 Axes>"
      ]
     },
     "metadata": {
      "needs_background": "light",
      "tags": []
     },
     "output_type": "display_data"
    }
   ],
   "source": [
    "## Obtencion de los datos necesarios\r\n",
    "arr = df[\"Normally Distributed Housefly Wing Lengths\"].values[4:]\r\n",
    "values, dist = np.unique(arr, return_counts=True) # valores y frecuencia\r\n",
    "print(values)\r\n",
    "plt.bar(values, dist)"
   ]
  },
  {
   "cell_type": "code",
   "execution_count": null,
   "metadata": {
    "colab": {
     "base_uri": "https://localhost:8080/",
     "height": 282
    },
    "executionInfo": {
     "elapsed": 471,
     "status": "ok",
     "timestamp": 1613962502853,
     "user": {
      "displayName": "Miguel Angel Castillo",
      "photoUrl": "https://lh3.googleusercontent.com/a-/AOh14Gh4hyUbr2m41WcjcOqUnBGGKF6nQz3u9z6NaQ523Q=s64",
      "userId": "07217403021476701761"
     },
     "user_tz": 360
    },
    "id": "hxsd0aytnkT_",
    "outputId": "c61ad9f8-266b-4d4a-f0b0-227f84c29477"
   },
   "outputs": [
    {
     "data": {
      "text/plain": [
       "<BarContainer object of 19 artists>"
      ]
     },
     "execution_count": 12,
     "metadata": {
      "tags": []
     },
     "output_type": "execute_result"
    },
    {
     "data": {
      "image/png": "[encoded data removed]",
      "text/plain": [
       "<Figure size 432x288 with 1 Axes>"
      ]
     },
     "metadata": {
      "needs_background": "light",
      "tags": []
     },
     "output_type": "display_data"
    }
   ],
   "source": [
    "# Estimacion de la distribucion de probabilidad\r\n",
    "\r\n",
    "\r\n",
    "## distribucion teorica\r\n",
    "mu = arr.mean()  # media\r\n",
    "sigma = arr.std() # desviacion estandar\r\n",
    "\r\n",
    "dist = norm(mu, sigma) # distribucion normal\r\n",
    "x = np.arange(30, 60, 0.1)\r\n",
    "y = [dist.pdf(value) for value in x]\r\n",
    "plt.plot(x,y)\r\n",
    "\r\n",
    "# datos\r\n",
    "values, dist = np.unique(arr, return_counts=True)\r\n",
    "plt.bar(values, dist/len(arr))"
   ]
  },
  {
   "cell_type": "markdown",
   "metadata": {
    "id": "8zg1_I2Ie3nM"
   },
   "source": [
    "# Estimacion de densidad\r\n"
   ]
  },
  {
   "cell_type": "code",
   "execution_count": null,
   "metadata": {
    "id": "iV3cUqiaqWB4"
   },
   "outputs": [],
   "source": [
    "import numpy as np\r\n",
    "from matplotlib import pyplot\r\n",
    "from numpy.random import normal\r\n",
    "from scipy.stats import norm\r\n"
   ]
  },
  {
   "cell_type": "code",
   "execution_count": null,
   "metadata": {
    "colab": {
     "base_uri": "https://localhost:8080/",
     "height": 265
    },
    "executionInfo": {
     "elapsed": 392,
     "status": "ok",
     "timestamp": 1614027004808,
     "user": {
      "displayName": "Miguel Angel Castillo",
      "photoUrl": "https://lh3.googleusercontent.com/a-/AOh14Gh4hyUbr2m41WcjcOqUnBGGKF6nQz3u9z6NaQ523Q=s64",
      "userId": "07217403021476701761"
     },
     "user_tz": 360
    },
    "id": "Pk2jheV-fYO-",
    "outputId": "cae10f20-15de-4ed6-89b1-ec25e3a9b8a4"
   },
   "outputs": [
    {
     "data": {
      "image/png": "[encoded data removed]",
      "text/plain": [
       "<Figure size 432x288 with 1 Axes>"
      ]
     },
     "metadata": {
      "needs_background": "light",
      "tags": []
     },
     "output_type": "display_data"
    }
   ],
   "source": [
    "sample = normal(size=10000) #Generador aleatorio basado en la distrib normal\r\n",
    "## Datos generados aleatoriamente\r\n",
    "pyplot.hist(sample, bins=30) # data genrda, intrvlos para barras del histograma\r\n",
    "pyplot.show()"
   ]
  },
  {
   "cell_type": "markdown",
   "metadata": {
    "id": "shy5EY8fhjzQ"
   },
   "source": [
    "## Estimacion parametrica\r\n"
   ]
  },
  {
   "cell_type": "code",
   "execution_count": null,
   "metadata": {
    "colab": {
     "base_uri": "https://localhost:8080/",
     "height": 265
    },
    "executionInfo": {
     "elapsed": 505,
     "status": "ok",
     "timestamp": 1614027702691,
     "user": {
      "displayName": "Miguel Angel Castillo",
      "photoUrl": "https://lh3.googleusercontent.com/a-/AOh14Gh4hyUbr2m41WcjcOqUnBGGKF6nQz3u9z6NaQ523Q=s64",
      "userId": "07217403021476701761"
     },
     "user_tz": 360
    },
    "id": "r0ABTzTLhhvG",
    "outputId": "a500d0dc-c840-414c-d5dd-07e9d2246c76"
   },
   "outputs": [
    {
     "data": {
      "image/png": "[encoded data removed]",
      "text/plain": [
       "<Figure size 432x288 with 1 Axes>"
      ]
     },
     "metadata": {
      "needs_background": "light",
      "tags": []
     },
     "output_type": "display_data"
    }
   ],
   "source": [
    "sample = normal(loc=50, scale=5, size=10000) # media, std, tamaño\r\n",
    "mu = sample.mean()\r\n",
    "sigma = sample.std()\r\n",
    "dist = norm(mu, sigma)\r\n",
    "values = [value for value in range(30,70)]\r\n",
    "probabilities = [dist.pdf(value) for value in values]\r\n",
    "pyplot.hist(sample, bins=30, density=True)\r\n",
    "pyplot.plot(values, probabilities)\r\n",
    "pyplot.show()\r\n"
   ]
  },
  {
   "cell_type": "markdown",
   "metadata": {
    "id": "EsT5zErSg81r"
   },
   "source": [
    "## Estimacion no parametrica\r\n",
    "\r\n",
    "**Biblioteca a utilizar**\r\n",
    "* _[parámetro de suavizado]_: smoothing parameter\r\n",
    "* _[función base]_: basis function\r\n",
    "\r\n",
    "Sobre libreria en: https://scikit-learn.org/stable/modules/density.html"
   ]
  },
  {
   "cell_type": "code",
   "execution_count": null,
   "metadata": {
    "colab": {
     "base_uri": "https://localhost:8080/",
     "height": 266
    },
    "executionInfo": {
     "elapsed": 523,
     "status": "ok",
     "timestamp": 1614028584201,
     "user": {
      "displayName": "Miguel Angel Castillo",
      "photoUrl": "https://lh3.googleusercontent.com/a-/AOh14Gh4hyUbr2m41WcjcOqUnBGGKF6nQz3u9z6NaQ523Q=s64",
      "userId": "07217403021476701761"
     },
     "user_tz": 360
    },
    "id": "tnXXvJd0fnTd",
    "outputId": "31d6e899-78d4-4029-bbe7-cbabc0897f99"
   },
   "outputs": [
    {
     "data": {
      "image/png": "[encoded data removed]",
      "text/plain": [
       "<Figure size 432x288 with 1 Axes>"
      ]
     },
     "metadata": {
      "needs_background": "light",
      "tags": []
     },
     "output_type": "display_data"
    }
   ],
   "source": [
    "from numpy import hstack\r\n",
    "from sklearn.neighbors import KernelDensity\r\n",
    "\r\n",
    "#construccion de distribucion binomial (samples)\r\n",
    "sample1 = normal(loc=20, scale=5, size=300)\r\n",
    "sample2 = normal(loc=40, scale=5, size=700)\r\n",
    "sample = hstack((sample1, sample2))\r\n",
    "\r\n",
    "model =KernelDensity(bandwidth=2, kernel=\"gaussian\")\r\n",
    "sample = sample.reshape((len(sample),1))\r\n",
    "model.fit(sample)\r\n",
    "\r\n",
    "values = np.asarray([value for value in range(1,60)])\r\n",
    "values = values.reshape((len(values), 1))\r\n",
    "probabilities = model.score_samples(values) # probabilidad logaritmica\r\n",
    "probabilities = np.exp(probabilities) # inversion de probabilidad exponencia\r\n",
    "\r\n",
    "pyplot.hist(sample, bins=50, density=True)\r\n",
    "pyplot.plot(values[:], probabilities)\r\n",
    "pyplot.show()\r\n",
    "\r\n",
    "\r\n"
   ]
  },
  {
   "cell_type": "markdown",
   "metadata": {
    "id": "5VDBf5rHmJnF"
   },
   "source": [
    "\n",
    "# MLE como base para la regresion logistica\n",
    "\n",
    "En estadística, la estimación por máxima verosimilitud (conocida también como EMV y, en ocasiones, MLE por sus siglas en inglés Maximum likelihood estimation ) es un método habitual para ajustar un modelo y estimar sus parámetros.\n",
    "\n",
    "Consideramos el problema de MLE:\n",
    "$$ \\max \\sum_{i} \\log P(y_i \\vert x_i;h) $$\n",
    "\n",
    "donde: \\\n",
    "$y_i$: Clase o categoria de cada elemento y $x_i$: son los atributos de cada elemento, donde ademas cada elemento del dataset satisface una distribucion de Bernulli:\n",
    "\n",
    "$$\n",
    "P = \\begin{cases}\n",
    "p, & \\mbox{si $y=1$,}\\\\\n",
    "1-p, & \\mbox{si $y=0$.} \n",
    "\\end{cases} \n",
    "$$\n",
    "\n",
    "En este caso la verosimilitud esta dada por: \n",
    "\n",
    "$$\n",
    "L = \\hat{y}y+(1-\\hat{y})(1-y)  \n",
    "$$\n",
    "\n",
    "Esta funcion da como resultado probabilidades altas cuando $\\hat{y} \\sim y$.\n",
    "\n"
   ]
  },
  {
   "cell_type": "code",
   "execution_count": 2,
   "metadata": {},
   "outputs": [],
   "source": [
    "from mpl_toolkits.mplot3d import Axes3D\n",
    "import matplotlib.pyplot as plt\n",
    "from matplotlib import cm\n",
    "import numpy as np\n",
    "import pandas as pd\n",
    "import seaborn as sns\n"
   ]
  },
  {
   "cell_type": "code",
   "execution_count": 7,
   "metadata": {
    "id": "qsmXdE77mVw0"
   },
   "outputs": [],
   "source": [
    "def likelihood(y, yp):\n",
    "    return yp*y+(1-yp)*(1-y)"
   ]
  },
  {
   "cell_type": "code",
   "execution_count": 9,
   "metadata": {},
   "outputs": [
    {
     "data": {
      "image/png": "[encoded data removed]",
      "text/plain": [
       "<Figure size 432x288 with 2 Axes>"
      ]
     },
     "metadata": {
      "needs_background": "light"
     },
     "output_type": "display_data"
    }
   ],
   "source": [
    "fig = plt.figure()\n",
    "ax = fig.gca(projection=\"3d\")\n",
    "\n",
    "Y = np.arange(0, 1, 0.01)\n",
    "YP = np.arange(0, 1, 0.01)\n",
    "Y, YP = np.meshgrid(Y, YP)\n",
    "Z = likelihood(Y, YP)\n",
    "\n",
    "surf = ax.plot_surface(Y, YP, Z, cmap = cm.coolwarm,\n",
    "                      linewidth=0, antialiased = False)\n",
    "fig.colorbar(surf, shrink=0.5, aspect=5)\n",
    "plt.show()"
   ]
  },
  {
   "cell_type": "markdown",
   "metadata": {},
   "source": [
    "Considerando $p \\rightarrow \\log(p)$, y sumando la verosimilitud para todos los puntos del dataset obtenemos: \n",
    "\n",
    "$$\n",
    "max{\\sum_i \\left(y \\log \\hat{y} + (1-y) \\log (1-\\hat{y}) \\right)} \\\\\n",
    "= \\min - \\sum_i \\left( y \\log \\hat{y} + (1-y) \\log (1-\\hat{y}) \\right)\n",
    "$$\n",
    "\n",
    "que es la conocida función de costo para clasificación conocida como Cross-entropy. "
   ]
  },
  {
   "cell_type": "markdown",
   "metadata": {},
   "source": [
    "## Regresion logistica con Scikit-learn\n",
    "\n",
    "\n",
    "$$\n",
    "\\hat{y} = \\frac{1}{1-\\exp{(-\\text{log-odds})}}\n",
    "$$\n",
    "\n",
    "donde:\n",
    "\n",
    "$\\text{log-odds} = \\beta_0 + \\beta_1 x_1 + \\dots \\beta_n x_n$ y los betas son los parámetros del modelo.\n",
    "\n",
    "Utilizaremos el siguiente dataset para realizar un ejercicio de clasificacion simple:\\\n",
    "https://scikit-learn.org/stable/auto_examples/datasets/plot_iris_dataset.html\n",
    "\n"
   ]
  },
  {
   "cell_type": "code",
   "execution_count": 10,
   "metadata": {},
   "outputs": [],
   "source": [
    "from sklearn.datasets import load_iris\n",
    "from sklearn.linear_model import LogisticRegression\n",
    "\n",
    "atrib_names = [\"sepal length\", \"sepal width\", \"petal length\", \"petal width\"]\n",
    "x, y = load_iris(return_X_y=True)"
   ]
  },
  {
   "cell_type": "code",
   "execution_count": 11,
   "metadata": {},
   "outputs": [
    {
     "data": {
      "text/plain": [
       "array([[5.1, 3.5, 1.4, 0.2],\n",
       "       [4.9, 3. , 1.4, 0.2]])"
      ]
     },
     "execution_count": 11,
     "metadata": {},
     "output_type": "execute_result"
    }
   ],
   "source": [
    "# ver las medidas de los nombres de los atributos\n",
    "x[:2]"
   ]
  },
  {
   "cell_type": "code",
   "execution_count": 12,
   "metadata": {},
   "outputs": [
    {
     "data": {
      "text/plain": [
       "array([0, 0, 0, 0, 0, 0, 0, 0, 0, 0, 0, 0, 0, 0, 0, 0, 0, 0, 0, 0, 0, 0,\n",
       "       0, 0, 0, 0, 0, 0, 0, 0, 0, 0, 0, 0, 0, 0, 0, 0, 0, 0, 0, 0, 0, 0,\n",
       "       0, 0, 0, 0, 0, 0, 1, 1, 1, 1, 1, 1, 1, 1, 1, 1, 1, 1, 1, 1, 1, 1,\n",
       "       1, 1, 1, 1, 1, 1, 1, 1, 1, 1, 1, 1, 1, 1, 1, 1, 1, 1, 1, 1, 1, 1,\n",
       "       1, 1, 1, 1, 1, 1, 1, 1, 1, 1, 1, 1])"
      ]
     },
     "execution_count": 12,
     "metadata": {},
     "output_type": "execute_result"
    }
   ],
   "source": [
    "# Ver la distribucion de tales medidas\n",
    "y[:100]"
   ]
  },
  {
   "cell_type": "code",
   "execution_count": null,
   "metadata": {},
   "outputs": [],
   "source": []
  }
 ],
 "metadata": {
  "colab": {
   "collapsed_sections": [],
   "name": "F-0 Probabilidad.ipynb",
   "provenance": []
  },
  "kernelspec": {
   "display_name": "Python 3",
   "language": "python",
   "name": "python3"
  },
  "language_info": {
   "codemirror_mode": {
    "name": "ipython",
    "version": 3
   },
   "file_extension": ".py",
   "mimetype": "text/x-python",
   "name": "python",
   "nbconvert_exporter": "python",
   "pygments_lexer": "ipython3",
   "version": "3.8.5"
  }
 },
 "nbformat": 4,
 "nbformat_minor": 4
}
