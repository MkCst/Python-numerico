{
 "cells": [
  {
   "cell_type": "markdown",
   "metadata": {},
   "source": [
    "# Uso de simpy"
   ]
  },
  {
   "cell_type": "markdown",
   "metadata": {},
   "source": [
    "## Conceptos basicon: definicon de simbolos y operaciones\n",
    "\n",
    "Para imprimir variables declaradas con la clase `sympy`  se hace uso de la funcion `pprint()` esta funcion imprimira las variables con un formato enriquecido usando caracteres unicode.\n"
   ]
  },
  {
   "cell_type": "code",
   "execution_count": 13,
   "metadata": {},
   "outputs": [
    {
     "name": "stdout",
     "output_type": "stream",
     "text": [
      "3⋅x\n"
     ]
    }
   ],
   "source": [
    "from sympy import Symbol, pprint\n",
    "x = Symbol(\"x\")\n",
    "pprint(3*x)\n"
   ]
  },
  {
   "cell_type": "code",
   "execution_count": 15,
   "metadata": {},
   "outputs": [
    {
     "name": "stdout",
     "output_type": "stream",
     "text": [
      " 2          \n",
      "x  + 2⋅x + 1\n",
      "\n",
      "invirtiendo el orden\n",
      "           2\n",
      "1 + 2⋅x + x \n"
     ]
    }
   ],
   "source": [
    "from sympy import Symbol, pprint, init_printing\n",
    "\n",
    "expresion = x**2+2*x+1\n",
    "pprint(expresion)\n",
    "\n",
    "print(\"\\ninvirtiendo el orden\")\n",
    "init_printing(order =\"rev-lex\")\n",
    "pprint(expresion)\n"
   ]
  },
  {
   "cell_type": "code",
   "execution_count": 6,
   "metadata": {
    "slideshow": {
     "slide_type": "fragment"
    }
   },
   "outputs": [
    {
     "data": {
      "text/latex": [
       "$\\displaystyle a^{2} + 2 a + 1$"
      ],
      "text/plain": [
       "a**2 + 2*a + 1"
      ]
     },
     "execution_count": 6,
     "metadata": {},
     "output_type": "execute_result"
    }
   ],
   "source": [
    "a = Symbol(\"a\")\n",
    "a**2+2*a+1"
   ]
  },
  {
   "cell_type": "code",
   "execution_count": 3,
   "metadata": {},
   "outputs": [
    {
     "data": {
      "text/latex": [
       "$\\displaystyle x + y + z$"
      ],
      "text/plain": [
       "x + y + z"
      ]
     },
     "execution_count": 3,
     "metadata": {},
     "output_type": "execute_result"
    }
   ],
   "source": [
    "# Declaracion de multiples simbolos\n",
    "from sympy import symbols\n",
    "\n",
    "x,y,z = symbols(\"x,y,z\")\n",
    "x+y+z"
   ]
  },
  {
   "cell_type": "markdown",
   "metadata": {},
   "source": [
    "## Realizando expresiones\n"
   ]
  },
  {
   "cell_type": "markdown",
   "metadata": {},
   "source": [
    "### Ejemplo de factorizacion de expresiones"
   ]
  },
  {
   "cell_type": "code",
   "execution_count": 21,
   "metadata": {},
   "outputs": [
    {
     "data": {
      "text/latex": [
       "$\\displaystyle x^{2} - y^{2}$"
      ],
      "text/plain": [
       "x**2 - y**2"
      ]
     },
     "execution_count": 21,
     "metadata": {},
     "output_type": "execute_result"
    }
   ],
   "source": [
    "## Uso de las funciones - factor() and expand()\n",
    "#pt1\n",
    "\n",
    "from sympy import Symbol, factor, expand\n",
    "\n",
    "x = Symbol(\"x\")\n",
    "y = Symbol(\"y\")\n",
    "\n",
    "diff_cuadrados = x**2 - y**2\n",
    "diff_cuadrados\n"
   ]
  },
  {
   "cell_type": "code",
   "execution_count": 22,
   "metadata": {},
   "outputs": [
    {
     "data": {
      "text/latex": [
       "$\\displaystyle \\left(x - y\\right) \\left(x + y\\right)$"
      ],
      "text/plain": [
       "(x - y)*(x + y)"
      ]
     },
     "execution_count": 22,
     "metadata": {},
     "output_type": "execute_result"
    }
   ],
   "source": [
    "## Uso de las funciones - factor() and expand()\n",
    "#pt2\n",
    "\n",
    "factor(diff_cuadrados)"
   ]
  },
  {
   "cell_type": "code",
   "execution_count": 23,
   "metadata": {},
   "outputs": [
    {
     "data": {
      "text/latex": [
       "$\\displaystyle x^{2} - y^{2}$"
      ],
      "text/plain": [
       "x**2 - y**2"
      ]
     },
     "execution_count": 23,
     "metadata": {},
     "output_type": "execute_result"
    }
   ],
   "source": [
    "## Uso de las funciones - factor() and expand()\n",
    "#pt3\n",
    "\"\"\"Recuperando la expresion original\"\"\"\n",
    "\n",
    "factores = factor(diff_cuadrados)\n",
    "expand(factores)\n"
   ]
  },
  {
   "cell_type": "code",
   "execution_count": 3,
   "metadata": {},
   "outputs": [
    {
     "data": {
      "text/latex": [
       "$\\displaystyle x^{3} + 3 x^{2} y + 3 x y^{2} + y^{3}$"
      ],
      "text/plain": [
       "x**3 + 3*x**2*y + 3*x*y**2 + y**3"
      ]
     },
     "execution_count": 3,
     "metadata": {},
     "output_type": "execute_result"
    }
   ],
   "source": [
    "# REALIZANDO UNA EXPRESION MAS COMPLEJA\n",
    "# pt1\n",
    "\n",
    "from sympy import Symbol, factor, expand\n",
    "\n",
    "x = Symbol(\"x\")\n",
    "y = Symbol(\"y\")\n",
    "expresion = x**3 + 3*x**2*y + 3*x*y**2 + y**3\n",
    "#Se define la expresion para factorizar\n",
    "expresion"
   ]
  },
  {
   "cell_type": "code",
   "execution_count": 4,
   "metadata": {},
   "outputs": [
    {
     "data": {
      "text/latex": [
       "$\\displaystyle \\left(x + y\\right)^{3}$"
      ],
      "text/plain": [
       "(x + y)**3"
      ]
     },
     "execution_count": 4,
     "metadata": {},
     "output_type": "execute_result"
    }
   ],
   "source": [
    "# REALIZANDO UNA EXPRESION MAS COMPLEJA\n",
    "# pt2 factorizacion \n",
    "\n",
    "factores = factor(expresion)\n",
    "factores"
   ]
  },
  {
   "cell_type": "code",
   "execution_count": 5,
   "metadata": {},
   "outputs": [
    {
     "data": {
      "text/latex": [
       "$\\displaystyle x^{3} + 3 x^{2} y + 3 x y^{2} + y^{3}$"
      ],
      "text/plain": [
       "x**3 + 3*x**2*y + 3*x*y**2 + y**3"
      ]
     },
     "execution_count": 5,
     "metadata": {},
     "output_type": "execute_result"
    }
   ],
   "source": [
    "# REALIZANDO UNA EXPRESION MAS COMPLEJA\n",
    "# pt3 a su forma original\n",
    "\n",
    "expand(factores)"
   ]
  },
  {
   "cell_type": "markdown",
   "metadata": {},
   "source": [
    "## Trabajando con series\n",
    "\n"
   ]
  },
  {
   "cell_type": "code",
   "execution_count": 22,
   "metadata": {},
   "outputs": [
    {
     "name": "stdin",
     "output_type": "stream",
     "text": [
      "Ingrese el numero de terminos que quiere en la serie:  5\n"
     ]
    },
    {
     "name": "stdout",
     "output_type": "stream",
     "text": [
      "     2    3    4    5\n",
      "    x    x    x    x \n",
      "x + ── + ── + ── + ──\n",
      "    2    3    4    5 \n",
      "\n"
     ]
    }
   ],
   "source": [
    "from sympy import Symbol, pprint, init_printing\n",
    "\n",
    "\n",
    "def imprimir_serie(n):\n",
    "    #Establece el sistema de impresion: orden =reversa\n",
    "    init_printing(order = \"rev-lex\")\n",
    "    \n",
    "    x = Symbol(\"x\")\n",
    "    serie = x\n",
    "    for i in range(2, n+1):\n",
    "        serie = serie + (x**i)/i\n",
    "    pprint(serie)\n",
    "    print()\n",
    "        \n",
    "n = int(input(\"Ingrese el numero de terminos que quiere en la serie: \"))\n",
    "imprimir_serie(n)"
   ]
  },
  {
   "cell_type": "markdown",
   "metadata": {},
   "source": [
    "## Sustituyendo valores en expresiones"
   ]
  },
  {
   "cell_type": "code",
   "execution_count": 33,
   "metadata": {},
   "outputs": [
    {
     "name": "stdout",
     "output_type": "stream",
     "text": [
      "Expresion: \n",
      " 2            2\n",
      "y  + 2⋅x⋅y + x \n",
      "\n",
      "Sustituyendo valores y=2, x=1\n",
      "9\n"
     ]
    }
   ],
   "source": [
    "from sympy import Symbol, pprint\n",
    "\n",
    "x = Symbol(\"x\")\n",
    "y = Symbol(\"y\")\n",
    "expresion = x*x + x*y + x*y + y*y\n",
    "\n",
    "\n",
    "print(\"Expresion: \", end=\"\\n\")\n",
    "pprint(expresion)\n",
    "print(\"\\nSustituyendo valores y=2, x=1\")\n",
    "est_valor = expresion.subs({x:1, y:2})\n",
    "pprint(est_valor)\n",
    "\n"
   ]
  },
  {
   "cell_type": "code",
   "execution_count": null,
   "metadata": {},
   "outputs": [],
   "source": []
  },
  {
   "cell_type": "code",
   "execution_count": null,
   "metadata": {},
   "outputs": [],
   "source": []
  },
  {
   "cell_type": "code",
   "execution_count": null,
   "metadata": {},
   "outputs": [],
   "source": []
  },
  {
   "cell_type": "code",
   "execution_count": null,
   "metadata": {},
   "outputs": [],
   "source": []
  }
 ],
 "metadata": {
  "kernelspec": {
   "display_name": "Python 3",
   "language": "python",
   "name": "python3"
  },
  "language_info": {
   "codemirror_mode": {
    "name": "ipython",
    "version": 3
   },
   "file_extension": ".py",
   "mimetype": "text/x-python",
   "name": "python",
   "nbconvert_exporter": "python",
   "pygments_lexer": "ipython3",
   "version": "3.8.3"
  }
 },
 "nbformat": 4,
 "nbformat_minor": 4
}
