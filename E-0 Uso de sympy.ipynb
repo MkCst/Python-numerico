{
 "cells": [
  {
   "cell_type": "markdown",
   "metadata": {},
   "source": [
    "# Uso de simpy"
   ]
  },
  {
   "cell_type": "markdown",
   "metadata": {},
   "source": [
    "## Conceptos basico: definición de simbolos y operaciones\n",
    "\n",
    "**Para representar valores se puede usar:**\n",
    "\n"
   ]
  },
  {
   "cell_type": "code",
   "execution_count": 19,
   "metadata": {},
   "outputs": [
    {
     "data": {
      "image/png": "[encoded data removed]",
      "text/latex": [
       "$\\displaystyle x^{2} + 2 x + 1$"
      ],
      "text/plain": [
       "           2\n",
       "1 + 2⋅x + x "
      ]
     },
     "execution_count": 19,
     "metadata": {},
     "output_type": "execute_result"
    }
   ],
   "source": [
    "# Salida Latex automatica\n",
    "from sympy import Symbol\n",
    "x = Symbol(\"x\")\n",
    "x**2+2*x+1\n"
   ]
  },
  {
   "cell_type": "code",
   "execution_count": 24,
   "metadata": {},
   "outputs": [
    {
     "name": "stdout",
     "output_type": "stream",
     "text": [
      "x**2 + 2*x + 1\n"
     ]
    }
   ],
   "source": [
    "#Salida comun\n",
    "from sympy import Symbol, pprint\n",
    "x = Symbol(\"x\")\n",
    "ec = x**2+2*x+1\n",
    "print(ec)"
   ]
  },
  {
   "cell_type": "code",
   "execution_count": 23,
   "metadata": {},
   "outputs": [
    {
     "name": "stdout",
     "output_type": "stream",
     "text": [
      "           2\n",
      "1 + 2⋅x + x \n"
     ]
    }
   ],
   "source": [
    "#Salida usando pprint\n",
    "import sympy as sp\n",
    "\n",
    "x = Symbol(\"x\")\n",
    "ec = x**2+2*x+1\n",
    "sp.pprint(ec)"
   ]
  },
  {
   "cell_type": "code",
   "execution_count": 35,
   "metadata": {},
   "outputs": [
    {
     "name": "stdout",
     "output_type": "stream",
     "text": [
      "Ecuacion\n"
     ]
    },
    {
     "data": {
      "image/png": "[encoded data removed]",
      "text/latex": [
       "$\\displaystyle x^{2} + 2 x + 1$"
      ],
      "text/plain": [
       "           2\n",
       "1 + 2⋅x + x "
      ]
     },
     "metadata": {},
     "output_type": "display_data"
    }
   ],
   "source": [
    "#Salida tipo Latex\n",
    "\"\"\"Configuracion inicial\"\"\"\n",
    "from sympy.interactive import printing\n",
    "printing.init_printing(use_latex=True)\n",
    "\n",
    "\"\"\"modulo necesario\"\"\"\n",
    "import sympy as sp\n",
    "\n",
    "x = sp.Symbol(\"x\")\n",
    "ecuacion = x**2 +2*x +1\n",
    "\n",
    "print(\"Ecuacion\")\n",
    "display(ecuacion)\n",
    "\n"
   ]
  },
  {
   "cell_type": "markdown",
   "metadata": {},
   "source": [
    "### Definiendo ecuaciones"
   ]
  },
  {
   "cell_type": "code",
   "execution_count": 38,
   "metadata": {
    "slideshow": {
     "slide_type": "fragment"
    }
   },
   "outputs": [
    {
     "name": "stdout",
     "output_type": "stream",
     "text": [
      "La ecuacion definida es:\n"
     ]
    },
    {
     "data": {
      "image/png": "[encoded data removed]",
      "text/latex": [
       "$\\displaystyle x^{2} + 2 y^{2} z + 2 y z^{2} + z^{2}$"
      ],
      "text/plain": [
       " 2        2      2      2\n",
       "z  + 2⋅y⋅z  + 2⋅y ⋅z + x "
      ]
     },
     "metadata": {},
     "output_type": "display_data"
    }
   ],
   "source": [
    "\"\"\"Configuracion incial\"\"\"\n",
    "from sympy.interactive import printing\n",
    "printing.init_printing(use_latex=True)\n",
    "\n",
    "\"\"\"modulos necesarios\"\"\"\n",
    "import sympy as sp\n",
    "\n",
    "#Declaracion de un simbolo\n",
    "x = sp.Symbol(\"x\")\n",
    "\n",
    "#Declaracion de multiples simbolos\n",
    "y,z = sp.symbols(\"y,z\")\n",
    "\n",
    "ecuacion = x**2 +2*y*z**2 +2*y**2*z +z**2\n",
    "\n",
    "print(\"La ecuacion definida es:\")\n",
    "display(ecuacion)"
   ]
  },
  {
   "cell_type": "markdown",
   "metadata": {},
   "source": [
    "### Sustituyendo expresiones\n",
    "**_Uso del metodo subs()_**"
   ]
  },
  {
   "cell_type": "code",
   "execution_count": 6,
   "metadata": {},
   "outputs": [
    {
     "name": "stdout",
     "output_type": "stream",
     "text": [
      "Expresion: \n"
     ]
    },
    {
     "data": {
      "image/png": "[encoded data removed]",
      "text/latex": [
       "$\\displaystyle x^{2} + 2 x y + y^{2}$"
      ],
      "text/plain": [
       " 2            2\n",
       "x  + 2⋅x⋅y + y "
      ]
     },
     "metadata": {},
     "output_type": "display_data"
    },
    {
     "name": "stdout",
     "output_type": "stream",
     "text": [
      "\n",
      "Sustituyendo valores y=2, x=1\n"
     ]
    },
    {
     "data": {
      "image/png": "[encoded data removed]",
      "text/latex": [
       "$\\displaystyle 9$"
      ],
      "text/plain": [
       "9"
      ]
     },
     "metadata": {},
     "output_type": "display_data"
    },
    {
     "name": "stdout",
     "output_type": "stream",
     "text": [
      "\n",
      "\n",
      "Segunda sustitucion x = 1-y\n",
      "\n"
     ]
    },
    {
     "data": {
      "image/png": "[encoded data removed]",
      "text/latex": [
       "$\\displaystyle y^{2} + 2 y \\left(y^{2} + 2\\right) + \\left(y^{2} + 2\\right)^{2}$"
      ],
      "text/plain": [
       "                            2\n",
       " 2       ⎛ 2    ⎞   ⎛ 2    ⎞ \n",
       "y  + 2⋅y⋅⎝y  + 2⎠ + ⎝y  + 2⎠ "
      ]
     },
     "metadata": {},
     "output_type": "display_data"
    }
   ],
   "source": [
    "from sympy.interactive import printing\n",
    "printing.init_printing(use_latex=True)\n",
    "\n",
    "import sympy as sp\n",
    "\n",
    "x,y = sp.symbols(\"x,y\")\n",
    "expresion = x*x +x*y +x*y +y*y\n",
    "\n",
    "print(\"Expresion: \", end=\"\\n\")\n",
    "display(expresion)\n",
    "\n",
    "print(\"\\nSustituyendo valores y=2, x=1\")\n",
    "est_valor = expresion.subs({x:1, y:2})\n",
    "display(est_valor)\n",
    "\n",
    "print(\"\\n\\nSegunda sustitucion x = 1-y\\n\")\n",
    "est_valor = expresion.subs({x:y**2+2})\n",
    "display(est_valor)\n"
   ]
  },
  {
   "cell_type": "markdown",
   "metadata": {},
   "source": [
    "### Factorizacion de expresiones \n",
    "\n",
    "```markdown\n",
    "    Uso de \n",
    "    * factor()\n",
    "    * expand()\n",
    "\n",
    "\n",
    "```"
   ]
  },
  {
   "cell_type": "code",
   "execution_count": 50,
   "metadata": {},
   "outputs": [
    {
     "data": {
      "image/png": "[encoded data removed]",
      "text/latex": [
       "$\\displaystyle \\left(x + y\\right)^{3}$"
      ],
      "text/plain": [
       "       3\n",
       "(y + x) "
      ]
     },
     "metadata": {},
     "output_type": "display_data"
    }
   ],
   "source": [
    "# Factorizacion simple\n",
    "from sympy.interactive import printing\n",
    "printing.init_printing(use_latex=True)\n",
    "\n",
    "import sympy as sp\n",
    "\n",
    "x,y = sp.symbols(\"x,y\")\n",
    "expresion = x**3 +3*x**2*y +3*x*y**2 +y**3\n",
    "display(sp.factor(expresion))\n",
    "\n"
   ]
  },
  {
   "cell_type": "code",
   "execution_count": 48,
   "metadata": {},
   "outputs": [
    {
     "name": "stdout",
     "output_type": "stream",
     "text": [
      "Diferencia de cuadrados\n"
     ]
    },
    {
     "data": {
      "image/png": "[encoded data removed]",
      "text/latex": [
       "$\\displaystyle x^{2} - y^{2}$"
      ],
      "text/plain": [
       "   2    2\n",
       "- y  + x "
      ]
     },
     "metadata": {},
     "output_type": "display_data"
    },
    {
     "name": "stdout",
     "output_type": "stream",
     "text": [
      "\n",
      "Expresion factorizada\n"
     ]
    },
    {
     "data": {
      "image/png": "[encoded data removed]",
      "text/latex": [
       "$\\displaystyle \\left(x - y\\right) \\left(x + y\\right)$"
      ],
      "text/plain": [
       "(-y + x)⋅(y + x)"
      ]
     },
     "metadata": {},
     "output_type": "display_data"
    },
    {
     "name": "stdout",
     "output_type": "stream",
     "text": [
      "\n",
      "Expresion regresada a su forma original\n"
     ]
    },
    {
     "data": {
      "image/png": "[encoded data removed]",
      "text/latex": [
       "$\\displaystyle x^{2} - y^{2}$"
      ],
      "text/plain": [
       "   2    2\n",
       "- y  + x "
      ]
     },
     "metadata": {},
     "output_type": "display_data"
    }
   ],
   "source": [
    "from sympy.interactive import printing\n",
    "printing.init_printing(use_latex=True)\n",
    "\n",
    "import sympy as sp\n",
    "\n",
    "x,y = sp.symbols(\"x,y\")\n",
    "\n",
    "# Estableciendo la ecuacion con la que vamos a trabajar\n",
    "diff_cuadrados = x**2 - y**2\n",
    "print(\"Diferencia de cuadrados\")\n",
    "display(diff_cuadrados)\n",
    "\n",
    "print()\n",
    "\n",
    "# Uso de factor\n",
    "ec_factor = sp.factor(diff_cuadrados)\n",
    "print(\"Expresion factorizada\")\n",
    "display(ec_factor)\n",
    "\n",
    "print()\n",
    "\n",
    "# Uso de expand\n",
    "print(\"Expresion regresada a su forma original\")\n",
    "display(sp.expand(ec_factor))"
   ]
  },
  {
   "cell_type": "markdown",
   "metadata": {},
   "source": [
    "### Uso de sympify()\n",
    "\n",
    "Usada para convertir un string en algo con lo que pueda trabajar la biblioteca sympy"
   ]
  },
  {
   "cell_type": "code",
   "execution_count": 6,
   "metadata": {},
   "outputs": [
    {
     "name": "stdin",
     "output_type": "stream",
     "text": [
      "Ingrese su expresion matematica:  2*x**2+3*x+1\n"
     ]
    },
    {
     "name": "stdout",
     "output_type": "stream",
     "text": [
      "La expresion multiplicada por dos es:\n"
     ]
    },
    {
     "data": {
      "image/png": "[encoded data removed]",
      "text/latex": [
       "$\\displaystyle 4 x^{2} + 6 x + 2$"
      ],
      "text/plain": [
       "             2\n",
       "2 + 6⋅x + 4⋅x "
      ]
     },
     "metadata": {},
     "output_type": "display_data"
    }
   ],
   "source": [
    "# Definiendo expresiones desde teclado\n",
    "\n",
    "from sympy.interactive import printing\n",
    "printing.init_printing(use_latex=True)\n",
    "\n",
    "from sympy import sympify\n",
    "from sympy.core.sympify import SympifyError\n",
    "import sympy as sp\n",
    "\n",
    "expresion =  input(\"Ingrese su expresion matematica: \")\n",
    "try:\n",
    "    expresion = sp.sympify(expresion)\n",
    "    print(\"La expresion multiplicada por dos es:\")\n",
    "    display(expresion * 2)\n",
    "except SympifyError:\n",
    "    print(\"Valor invalido\")"
   ]
  },
  {
   "cell_type": "code",
   "execution_count": 23,
   "metadata": {},
   "outputs": [
    {
     "name": "stdout",
     "output_type": "stream",
     "text": [
      "MULTIPLICACION DE ECUACIONES\n"
     ]
    },
    {
     "name": "stdin",
     "output_type": "stream",
     "text": [
      "Ingrese su primera ecuacion 2*x**2+1\n",
      "Ingrese su segunda ecuacion x+2\n"
     ]
    },
    {
     "name": "stdout",
     "output_type": "stream",
     "text": [
      "\n",
      "Producto de:\n"
     ]
    },
    {
     "data": {
      "image/png": "[encoded data removed]",
      "text/latex": [
       "$\\displaystyle \\left(x + 2\\right) \\left(2 x^{2} + 1\\right)$"
      ],
      "text/plain": [
       "        ⎛       2⎞\n",
       "(2 + x)⋅⎝1 + 2⋅x ⎠"
      ]
     },
     "metadata": {},
     "output_type": "display_data"
    },
    {
     "data": {
      "image/png": "[encoded data removed]",
      "text/latex": [
       "$\\displaystyle 2 x^{3} + 4 x^{2} + x + 2$"
      ],
      "text/plain": [
       "           2      3\n",
       "2 + x + 4⋅x  + 2⋅x "
      ]
     },
     "metadata": {},
     "output_type": "display_data"
    }
   ],
   "source": [
    "# Multiplicacion de expresiones\n",
    "from sympy.interactive import printing\n",
    "printing.init_printing(use_latex=True)\n",
    "\n",
    "from sympy.core.sympify import SympifyError\n",
    "import sympy as sp\n",
    "\n",
    "def producto(expre1, expre2):\n",
    "    print(\"\\nProducto de:\")\n",
    "    prod =(expre1 * expre2)\n",
    "    display(prod)\n",
    "    display(prod.expand())\n",
    "    \n",
    "    \n",
    "print(\"MULTIPLICACION DE ECUACIONES\")\n",
    "\n",
    "expre1 = input(\"Ingrese su primera ecuacion\")\n",
    "expre2 = input(\"Ingrese su segunda ecuacion\")\n",
    "\n",
    "try:\n",
    "    expre1 = sp.sympify(expre1)\n",
    "    expre2 = sp.sympify(expre2)\n",
    "except SympifyError:\n",
    "    print(\"Valor invalido\")\n",
    "else:\n",
    "    producto(expre1, expre2)\n"
   ]
  },
  {
   "cell_type": "markdown",
   "metadata": {},
   "source": [
    "# Resolviendo ecuaciones"
   ]
  },
  {
   "cell_type": "markdown",
   "metadata": {},
   "source": [
    "## Uso de solve()\n",
    "\n",
    "Usado para encontrar la solucionde a la ecuacion, la funcion resulve las expresiones entendiendo que son igual a cero"
   ]
  },
  {
   "cell_type": "code",
   "execution_count": 17,
   "metadata": {},
   "outputs": [
    {
     "data": {
      "image/png": "[encoded data removed]",
      "text/latex": [
       "$\\displaystyle \\left[ 17\\right]$"
      ],
      "text/plain": [
       "[17]"
      ]
     },
     "metadata": {},
     "output_type": "display_data"
    },
    {
     "data": {
      "image/png": "[encoded data removed]",
      "text/latex": [
       "$\\displaystyle \\left[ \\left\\{ x : 17\\right\\}\\right]$"
      ],
      "text/plain": [
       "[{x: 17}]"
      ]
     },
     "metadata": {},
     "output_type": "display_data"
    }
   ],
   "source": [
    "from sympy.interactive import printing\n",
    "printing.init_printing(use_latex=True)\n",
    "\n",
    "import sympy as sp\n",
    "\n",
    "x = sp.Symbol(\"x\")\n",
    "\n",
    "ecuacion = x -10 -7\n",
    "# Devuelve una lista con el valor que hace cero a la ecuacion.\n",
    "\n",
    "display(sp.solve(ecuacion))\n",
    "display(sp.solve(ecuacion, dict=True))\n"
   ]
  },
  {
   "cell_type": "code",
   "execution_count": 29,
   "metadata": {},
   "outputs": [
    {
     "name": "stdin",
     "output_type": "stream",
     "text": [
      "ingrese la ecuacion a resolver x**2+5*x+4\n"
     ]
    },
    {
     "name": "stdout",
     "output_type": "stream",
     "text": [
      "Ecuacion\t\n"
     ]
    },
    {
     "data": {
      "image/png": "[encoded data removed]",
      "text/latex": [
       "$\\displaystyle x^{2} + 5 x + 4$"
      ],
      "text/plain": [
       "           2\n",
       "4 + 5⋅x + x "
      ]
     },
     "metadata": {},
     "output_type": "display_data"
    },
    {
     "name": "stdout",
     "output_type": "stream",
     "text": [
      "Soluciones:\t"
     ]
    },
    {
     "data": {
      "image/png": "[encoded data removed]",
      "text/latex": [
       "$\\displaystyle \\left[ \\left\\{ x : -4\\right\\}, \\  \\left\\{ x : -1\\right\\}\\right]$"
      ],
      "text/plain": [
       "[{x: -4}, {x: -1}]"
      ]
     },
     "metadata": {},
     "output_type": "display_data"
    }
   ],
   "source": [
    "# Resolucion de ecuaciones cuadraticas\n",
    "\n",
    "from sympy.interactive import printing\n",
    "printing.init_printing(use_latex=True)\n",
    "\n",
    "from sympy.core.sympify import SympifyError\n",
    "import sympy as sp\n",
    "\n",
    "ecuacion = input(\"ingrese la ecuacion a resolver\")\n",
    "\n",
    "try:\n",
    "    ecuacion = sp.sympify(ecuacion)\n",
    "    print(\"Ecuacion\\t\")\n",
    "    display(ecuacion)\n",
    "except SympifyError:\n",
    "    print(\"Valor invalido\")\n",
    "else:\n",
    "    print(\"Soluciones:\\t\",end=\"\")\n",
    "    display(sp.solve(ecuacion, dict=True))\n"
   ]
  },
  {
   "cell_type": "code",
   "execution_count": 34,
   "metadata": {},
   "outputs": [
    {
     "name": "stdout",
     "output_type": "stream",
     "text": [
      "Las soluciones de una ecuacion cuadratica son: \n"
     ]
    },
    {
     "data": {
      "image/png": "[encoded data removed]",
      "text/latex": [
       "$\\displaystyle \\left[ \\left\\{ x : \\frac{- b + \\sqrt{- 4 a c + b^{2}}}{2 a}\\right\\}, \\  \\left\\{ x : - \\frac{b + \\sqrt{- 4 a c + b^{2}}}{2 a}\\right\\}\\right]$"
      ],
      "text/plain": [
       "⎡⎧      ____________    ⎫  ⎧    ⎛   ____________    ⎞ ⎫⎤\n",
       "⎢⎪     ╱  2             ⎪  ⎪    ⎜  ╱  2             ⎟ ⎪⎥\n",
       "⎢⎨   ╲╱  b  - 4⋅a⋅c  - b⎬  ⎨   -⎝╲╱  b  - 4⋅a⋅c  + b⎠ ⎬⎥\n",
       "⎢⎪x: ───────────────────⎪, ⎪x: ───────────────────────⎪⎥\n",
       "⎣⎩           2⋅a        ⎭  ⎩             2⋅a          ⎭⎦"
      ]
     },
     "metadata": {},
     "output_type": "display_data"
    }
   ],
   "source": [
    "# Resolucion de una variable en terminos de otra\n",
    "## Ejemplo de la ecuacion cuadratica\n",
    "\n",
    "\n",
    "from sympy.interactive import printing\n",
    "printing.init_printing(use_latex=True)\n",
    "\n",
    "import sympy as sp\n",
    "\n",
    "x,a,b,c = sp.symbols(\"x,a,b,c\")\n",
    "exprecion = a*x**2 + b*x +c\n",
    "\n",
    "print(\"Las soluciones de una ecuacion cuadratica son: \")\n",
    "display(sp.solve(exprecion, x, dict=True))"
   ]
  },
  {
   "cell_type": "markdown",
   "metadata": {},
   "source": [
    "### Resolucion de sistema de ecuaciones lineales\n"
   ]
  },
  {
   "cell_type": "code",
   "execution_count": 25,
   "metadata": {},
   "outputs": [
    {
     "name": "stdout",
     "output_type": "stream",
     "text": [
      "Sistema de ecuaciones lineales\n"
     ]
    },
    {
     "data": {
      "image/png": "[encoded data removed]",
      "text/latex": [
       "$\\displaystyle 2 x + 3 y - 6$"
      ],
      "text/plain": [
       "2⋅x + 3⋅y - 6"
      ]
     },
     "metadata": {},
     "output_type": "display_data"
    },
    {
     "data": {
      "image/png": "[encoded data removed]",
      "text/latex": [
       "$\\displaystyle 3 x + 2 y - 12$"
      ],
      "text/plain": [
       "3⋅x + 2⋅y - 12"
      ]
     },
     "metadata": {},
     "output_type": "display_data"
    },
    {
     "name": "stdout",
     "output_type": "stream",
     "text": [
      "\n",
      "Solucion\n"
     ]
    },
    {
     "data": {
      "image/png": "[encoded data removed]",
      "text/latex": [
       "$\\displaystyle \\left[ \\left\\{ x : \\frac{24}{5}, \\  y : - \\frac{6}{5}\\right\\}\\right]$"
      ],
      "text/plain": [
       "[{x: 24/5, y: -6/5}]"
      ]
     },
     "metadata": {},
     "output_type": "display_data"
    },
    {
     "name": "stdout",
     "output_type": "stream",
     "text": [
      "\n",
      "Comprando solucion\n",
      "El valor devuelto es una lista [{x: 24/5, y: -6/5}]\n"
     ]
    },
    {
     "data": {
      "image/png": "[encoded data removed]",
      "text/latex": [
       "$\\displaystyle 0$"
      ],
      "text/plain": [
       "0"
      ]
     },
     "metadata": {},
     "output_type": "display_data"
    },
    {
     "data": {
      "image/png": "[encoded data removed]",
      "text/latex": [
       "$\\displaystyle 0$"
      ],
      "text/plain": [
       "0"
      ]
     },
     "metadata": {},
     "output_type": "display_data"
    }
   ],
   "source": [
    "# Configuracion inicial\n",
    "from sympy.interactive import printing\n",
    "printing.init_printing(use_latex=True)\n",
    "\n",
    "# Importamos los paquetes que vamos a usar\n",
    "import sympy as sp\n",
    "\n",
    "x,y = sp.symbols(\"x,y\")\n",
    "ecuacion_1 = 2*x + 3*y -6\n",
    "ecuacion_2 = 3*x + 2*y -12\n",
    "\n",
    "# llamada a solve con los dos elementos en una tupla\n",
    "\n",
    "print(\"Sistema de ecuaciones lineales\")\n",
    "display(ecuacion_1, ecuacion_2)\n",
    "\n",
    "print(\"\\nSolucion\")\n",
    "display(sp.solve((ecuacion_1, ecuacion_2), dict=True))\n",
    "\n",
    "print(\"\\nComprando solucion\")\n",
    "\n",
    "soluciones = sp.solve((ecuacion_1, ecuacion_2), dict= True)\n",
    "print(\"El valor devuelto es una lista\",soluciones)\n",
    "soluciones = soluciones[0]\n",
    "display(ecuacion_1.subs({x: soluciones[x], y: soluciones[y]}))\n",
    "display(ecuacion_2.subs({x: soluciones[x], y: soluciones[y]}))\n",
    "\n"
   ]
  },
  {
   "cell_type": "markdown",
   "metadata": {},
   "source": [
    "## Trabajando con series\n",
    "\n"
   ]
  },
  {
   "cell_type": "code",
   "execution_count": 3,
   "metadata": {},
   "outputs": [
    {
     "name": "stdin",
     "output_type": "stream",
     "text": [
      "Ingrese el numero de terminos que quiere en la serie:  8\n"
     ]
    },
    {
     "data": {
      "image/png": "[encoded data removed]",
      "text/latex": [
       "$\\displaystyle \\frac{x^{8}}{8} + \\frac{x^{7}}{7} + \\frac{x^{6}}{6} + \\frac{x^{5}}{5} + \\frac{x^{4}}{4} + \\frac{x^{3}}{3} + \\frac{x^{2}}{2} + x$"
      ],
      "text/plain": [
       "     2    3    4    5    6    7    8\n",
       "    x    x    x    x    x    x    x \n",
       "x + ── + ── + ── + ── + ── + ── + ──\n",
       "    2    3    4    5    6    7    8 "
      ]
     },
     "metadata": {},
     "output_type": "display_data"
    },
    {
     "name": "stdout",
     "output_type": "stream",
     "text": [
      "\n",
      "     2    3    4    5    6    7    8\n",
      "    x    x    x    x    x    x    x \n",
      "x + ── + ── + ── + ── + ── + ── + ──\n",
      "    2    3    4    5    6    7    8 \n"
     ]
    }
   ],
   "source": [
    "from sympy.interactive import printing\n",
    "printing.init_printing(use_latex=True)\n",
    "\n",
    "import sympy as sp\n",
    "\n",
    "\n",
    "def imprimir_serie(n):\n",
    "    printing.init_printing(order=\"rev-lex\") #Establece el orden de la impresion\n",
    "\n",
    "    x = sp.Symbol(\"x\")\n",
    "    serie = x\n",
    "    for i in range(2, n+1):\n",
    "        serie = serie+((x**i)/i)\n",
    "    display(serie)\n",
    "    print()\n",
    "    sp.pprint(serie)\n",
    "    \n",
    "        \n",
    "n = int(input(\"Ingrese el numero de terminos que quiere en la serie: \"))\n",
    "imprimir_serie(n)"
   ]
  },
  {
   "cell_type": "code",
   "execution_count": null,
   "metadata": {},
   "outputs": [],
   "source": [
    "\n"
   ]
  },
  {
   "cell_type": "code",
   "execution_count": null,
   "metadata": {},
   "outputs": [],
   "source": []
  },
  {
   "cell_type": "code",
   "execution_count": null,
   "metadata": {},
   "outputs": [],
   "source": []
  },
  {
   "cell_type": "code",
   "execution_count": null,
   "metadata": {},
   "outputs": [],
   "source": []
  }
 ],
 "metadata": {
  "kernelspec": {
   "display_name": "Python 3",
   "language": "python",
   "name": "python3"
  },
  "language_info": {
   "codemirror_mode": {
    "name": "ipython",
    "version": 3
   },
   "file_extension": ".py",
   "mimetype": "text/x-python",
   "name": "python",
   "nbconvert_exporter": "python",
   "pygments_lexer": "ipython3",
   "version": "3.8.3"
  }
 },
 "nbformat": 4,
 "nbformat_minor": 4
}
