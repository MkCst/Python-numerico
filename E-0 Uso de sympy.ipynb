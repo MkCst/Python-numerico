{
 "cells": [
  {
   "cell_type": "markdown",
   "metadata": {},
   "source": [
    "# Uso de simpy"
   ]
  },
  {
   "cell_type": "markdown",
   "metadata": {},
   "source": [
    "## Conceptos basico: definición de simbolos y operaciones\n",
    "\n",
    "**Para representar valores se puede usar:**\n",
    "\n"
   ]
  },
  {
   "cell_type": "code",
   "execution_count": 19,
   "metadata": {},
   "outputs": [
    {
     "data": {
      "image/png": "[encoded data removed]",
      "text/latex": [
       "$\\displaystyle x^{2} + 2 x + 1$"
      ],
      "text/plain": [
       "           2\n",
       "1 + 2⋅x + x "
      ]
     },
     "execution_count": 19,
     "metadata": {},
     "output_type": "execute_result"
    }
   ],
   "source": [
    "# Salida Latex automatica\n",
    "from sympy import Symbol\n",
    "x = Symbol(\"x\")\n",
    "x**2+2*x+1\n"
   ]
  },
  {
   "cell_type": "code",
   "execution_count": 24,
   "metadata": {},
   "outputs": [
    {
     "name": "stdout",
     "output_type": "stream",
     "text": [
      "x**2 + 2*x + 1\n"
     ]
    }
   ],
   "source": [
    "#Salida comun\n",
    "from sympy import Symbol, pprint\n",
    "x = Symbol(\"x\")\n",
    "ec = x**2+2*x+1\n",
    "print(ec)"
   ]
  },
  {
   "cell_type": "code",
   "execution_count": 23,
   "metadata": {},
   "outputs": [
    {
     "name": "stdout",
     "output_type": "stream",
     "text": [
      "           2\n",
      "1 + 2⋅x + x \n"
     ]
    }
   ],
   "source": [
    "#Salida usando pprint\n",
    "import sympy as sp\n",
    "\n",
    "x = Symbol(\"x\")\n",
    "ec = x**2+2*x+1\n",
    "sp.pprint(ec)"
   ]
  },
  {
   "cell_type": "code",
   "execution_count": 35,
   "metadata": {},
   "outputs": [
    {
     "name": "stdout",
     "output_type": "stream",
     "text": [
      "Ecuacion\n"
     ]
    },
    {
     "data": {
      "image/png": "[encoded data removed]",
      "text/latex": [
       "$\\displaystyle x^{2} + 2 x + 1$"
      ],
      "text/plain": [
       "           2\n",
       "1 + 2⋅x + x "
      ]
     },
     "metadata": {},
     "output_type": "display_data"
    }
   ],
   "source": [
    "#Salida tipo Latex\n",
    "\"\"\"Configuracion inicial\"\"\"\n",
    "from sympy.interactive import printing\n",
    "printing.init_printing(use_latex=True)\n",
    "\n",
    "\"\"\"modulo necesario\"\"\"\n",
    "import sympy as sp\n",
    "\n",
    "x = sp.Symbol(\"x\")\n",
    "ecuacion = x**2 +2*x +1\n",
    "\n",
    "print(\"Ecuacion\")\n",
    "display(ecuacion)\n",
    "\n"
   ]
  },
  {
   "cell_type": "markdown",
   "metadata": {},
   "source": [
    "### Definiendo ecuaciones"
   ]
  },
  {
   "cell_type": "code",
   "execution_count": 38,
   "metadata": {
    "slideshow": {
     "slide_type": "fragment"
    }
   },
   "outputs": [
    {
     "name": "stdout",
     "output_type": "stream",
     "text": [
      "La ecuacion definida es:\n"
     ]
    },
    {
     "data": {
      "image/png": "[encoded data removed]",
      "text/latex": [
       "$\\displaystyle x^{2} + 2 y^{2} z + 2 y z^{2} + z^{2}$"
      ],
      "text/plain": [
       " 2        2      2      2\n",
       "z  + 2⋅y⋅z  + 2⋅y ⋅z + x "
      ]
     },
     "metadata": {},
     "output_type": "display_data"
    }
   ],
   "source": [
    "\"\"\"Configuracion incial\"\"\"\n",
    "from sympy.interactive import printing\n",
    "printing.init_printing(use_latex=True)\n",
    "\n",
    "\"\"\"modulos necesarios\"\"\"\n",
    "import sympy as sp\n",
    "\n",
    "#Declaracion de un simbolo\n",
    "x = sp.Symbol(\"x\")\n",
    "\n",
    "#Declaracion de multiples simbolos\n",
    "y,z = sp.symbols(\"y,z\")\n",
    "\n",
    "ecuacion = x**2 +2*y*z**2 +2*y**2*z +z**2\n",
    "\n",
    "print(\"La ecuacion definida es:\")\n",
    "display(ecuacion)"
   ]
  },
  {
   "cell_type": "markdown",
   "metadata": {},
   "source": [
    "### Sustituyendo expresiones\n"
   ]
  },
  {
   "cell_type": "code",
   "execution_count": 66,
   "metadata": {},
   "outputs": [
    {
     "name": "stdout",
     "output_type": "stream",
     "text": [
      "Expresion: \n"
     ]
    },
    {
     "data": {
      "image/png": "[encoded data removed]",
      "text/latex": [
       "$\\displaystyle x^{2} + 2 x y + y^{2}$"
      ],
      "text/plain": [
       " 2            2\n",
       "y  + 2⋅x⋅y + x "
      ]
     },
     "metadata": {},
     "output_type": "display_data"
    },
    {
     "name": "stdout",
     "output_type": "stream",
     "text": [
      "\n",
      "Sustituyendo valores y=2, x=1\n"
     ]
    },
    {
     "data": {
      "image/png": "[encoded data removed]",
      "text/latex": [
       "$\\displaystyle 9$"
      ],
      "text/plain": [
       "9"
      ]
     },
     "metadata": {},
     "output_type": "display_data"
    },
    {
     "name": "stdout",
     "output_type": "stream",
     "text": [
      "\n",
      "\n",
      "Segunda sustitucion x = 1-y\n",
      "\n"
     ]
    },
    {
     "data": {
      "image/png": "[encoded data removed]",
      "text/latex": [
       "$\\displaystyle y^{2} + 2 y \\left(1 - y\\right) + \\left(1 - y\\right)^{2}$"
      ],
      "text/plain": [
       "       2                  2\n",
       "(1 - y)  + 2⋅y⋅(1 - y) + y "
      ]
     },
     "metadata": {},
     "output_type": "display_data"
    }
   ],
   "source": [
    "from sympy.interactive import printing\n",
    "printing.init_printing(use_latex=True)\n",
    "\n",
    "import sympy as sp\n",
    "\n",
    "x,y = sp.symbols(\"x,y\")\n",
    "expresion = x*x +x*y +x*y +y*y\n",
    "\n",
    "print(\"Expresion: \", end=\"\\n\")\n",
    "display(expresion)\n",
    "\n",
    "print(\"\\nSustituyendo valores y=2, x=1\")\n",
    "est_valor = expresion.subs({x:1, y:2})\n",
    "display(est_valor)\n",
    "\n",
    "print(\"\\n\\nSegunda sustitucion x = 1-y\\n\")\n",
    "est_valor = expresion.subs({x:1-y})\n",
    "display(est_valor)\n"
   ]
  },
  {
   "cell_type": "markdown",
   "metadata": {},
   "source": [
    "### Factorizacion de expresiones \n",
    "\n",
    "```markdown\n",
    "    Uso de \n",
    "    * factor()\n",
    "    * expand()\n",
    "\n",
    "\n",
    "```"
   ]
  },
  {
   "cell_type": "code",
   "execution_count": 50,
   "metadata": {},
   "outputs": [
    {
     "data": {
      "image/png": "[encoded data removed]",
      "text/latex": [
       "$\\displaystyle \\left(x + y\\right)^{3}$"
      ],
      "text/plain": [
       "       3\n",
       "(y + x) "
      ]
     },
     "metadata": {},
     "output_type": "display_data"
    }
   ],
   "source": [
    "# Factorizacion simple\n",
    "from sympy.interactive import printing\n",
    "printing.init_printing(use_latex=True)\n",
    "\n",
    "import sympy as sp\n",
    "\n",
    "x,y = sp.symbols(\"x,y\")\n",
    "expresion = x**3 +3*x**2*y +3*x*y**2 +y**3\n",
    "display(sp.factor(expresion))\n",
    "\n"
   ]
  },
  {
   "cell_type": "code",
   "execution_count": 48,
   "metadata": {},
   "outputs": [
    {
     "name": "stdout",
     "output_type": "stream",
     "text": [
      "Diferencia de cuadrados\n"
     ]
    },
    {
     "data": {
      "image/png": "[encoded data removed]",
      "text/latex": [
       "$\\displaystyle x^{2} - y^{2}$"
      ],
      "text/plain": [
       "   2    2\n",
       "- y  + x "
      ]
     },
     "metadata": {},
     "output_type": "display_data"
    },
    {
     "name": "stdout",
     "output_type": "stream",
     "text": [
      "\n",
      "Expresion factorizada\n"
     ]
    },
    {
     "data": {
      "image/png": "[encoded data removed]",
      "text/latex": [
       "$\\displaystyle \\left(x - y\\right) \\left(x + y\\right)$"
      ],
      "text/plain": [
       "(-y + x)⋅(y + x)"
      ]
     },
     "metadata": {},
     "output_type": "display_data"
    },
    {
     "name": "stdout",
     "output_type": "stream",
     "text": [
      "\n",
      "Expresion regresada a su forma original\n"
     ]
    },
    {
     "data": {
      "image/png": "[encoded data removed]",
      "text/latex": [
       "$\\displaystyle x^{2} - y^{2}$"
      ],
      "text/plain": [
       "   2    2\n",
       "- y  + x "
      ]
     },
     "metadata": {},
     "output_type": "display_data"
    }
   ],
   "source": [
    "from sympy.interactive import printing\n",
    "printing.init_printing(use_latex=True)\n",
    "\n",
    "import sympy as sp\n",
    "\n",
    "x,y = sp.symbols(\"x,y\")\n",
    "\n",
    "# Estableciendo la ecuacion con la que vamos a trabajar\n",
    "diff_cuadrados = x**2 - y**2\n",
    "print(\"Diferencia de cuadrados\")\n",
    "display(diff_cuadrados)\n",
    "\n",
    "print()\n",
    "\n",
    "# Uso de factor\n",
    "ec_factor = sp.factor(diff_cuadrados)\n",
    "print(\"Expresion factorizada\")\n",
    "display(ec_factor)\n",
    "\n",
    "print()\n",
    "\n",
    "# Uso de expand\n",
    "print(\"Expresion regresada a su forma original\")\n",
    "display(sp.expand(ec_factor))"
   ]
  },
  {
   "cell_type": "markdown",
   "metadata": {},
   "source": [
    "## Trabajando con series\n",
    "\n"
   ]
  },
  {
   "cell_type": "code",
   "execution_count": 65,
   "metadata": {},
   "outputs": [
    {
     "name": "stdin",
     "output_type": "stream",
     "text": [
      "Ingrese el numero de terminos que quiere en la serie:  4\n"
     ]
    },
    {
     "data": {
      "image/png": "[encoded data removed]",
      "text/latex": [
       "$\\displaystyle \\frac{x^{4}}{4} + \\frac{x^{3}}{3} + \\frac{x^{2}}{2} + x$"
      ],
      "text/plain": [
       "     2    3    4\n",
       "    x    x    x \n",
       "x + ── + ── + ──\n",
       "    2    3    4 "
      ]
     },
     "metadata": {},
     "output_type": "display_data"
    },
    {
     "name": "stdout",
     "output_type": "stream",
     "text": [
      "\n",
      "     2    3    4\n",
      "    x    x    x \n",
      "x + ── + ── + ──\n",
      "    2    3    4 \n"
     ]
    }
   ],
   "source": [
    "from sympy.interactive import printing\n",
    "printing.init_printing(use_latex=True)\n",
    "\n",
    "import sympy as sp\n",
    "\n",
    "\n",
    "def imprimir_serie(n):\n",
    "    printing.init_printing(order=\"rev-lex\") #Establece el orden de la impresion\n",
    "\n",
    "    x = sp.Symbol(\"x\")\n",
    "    serie = x\n",
    "    for i in range(2, n+1):\n",
    "        serie = serie+((x**i)/i)\n",
    "    display(serie)\n",
    "    print()\n",
    "    sp.pprint(serie)\n",
    "    \n",
    "        \n",
    "n = int(input(\"Ingrese el numero de terminos que quiere en la serie: \"))\n",
    "imprimir_serie(n)"
   ]
  },
  {
   "cell_type": "code",
   "execution_count": null,
   "metadata": {},
   "outputs": [],
   "source": [
    "\n"
   ]
  },
  {
   "cell_type": "code",
   "execution_count": null,
   "metadata": {},
   "outputs": [],
   "source": []
  },
  {
   "cell_type": "code",
   "execution_count": null,
   "metadata": {},
   "outputs": [],
   "source": []
  },
  {
   "cell_type": "code",
   "execution_count": null,
   "metadata": {},
   "outputs": [],
   "source": []
  }
 ],
 "metadata": {
  "kernelspec": {
   "display_name": "Python 3",
   "language": "python",
   "name": "python3"
  },
  "language_info": {
   "codemirror_mode": {
    "name": "ipython",
    "version": 3
   },
   "file_extension": ".py",
   "mimetype": "text/x-python",
   "name": "python",
   "nbconvert_exporter": "python",
   "pygments_lexer": "ipython3",
   "version": "3.8.3"
  }
 },
 "nbformat": 4,
 "nbformat_minor": 4
}
