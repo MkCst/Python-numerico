{
 "cells": [
  {
   "cell_type": "markdown",
   "metadata": {},
   "source": [
    "# Trabajando con numeros"
   ]
  },
  {
   "cell_type": "markdown",
   "metadata": {},
   "source": [
    "## Numeros fraccionarios"
   ]
  },
  {
   "cell_type": "code",
   "execution_count": 8,
   "metadata": {},
   "outputs": [
    {
     "name": "stdout",
     "output_type": "stream",
     "text": [
      "3/4\n",
      "1/2\n",
      "3/4 + 1/2 = 5/4\n"
     ]
    }
   ],
   "source": [
    "#Trabajando con fracciones\n",
    "\n",
    "from fractions import Fraction\n",
    "\n",
    "f= Fraction(3,4)\n",
    "g= Fraction(2,4)\n",
    "print(f)\n",
    "print(g)\n",
    "print(f\"{f} + {g} = {f+g}\")"
   ]
  },
  {
   "cell_type": "code",
   "execution_count": 31,
   "metadata": {},
   "outputs": [
    {
     "name": "stdin",
     "output_type": "stream",
     "text": [
      "Ingrese un numero:  sdasd2\n"
     ]
    },
    {
     "name": "stdout",
     "output_type": "stream",
     "text": [
      "Has ingresado un numero invalido\n"
     ]
    }
   ],
   "source": [
    "# Tratamiento de entrada invalida\n",
    "\n",
    "try:\n",
    "    a = float(input(\"Ingrese un numero: \"))\n",
    "except ValueError:\n",
    "    print(\"Has ingresado un numero invalido\")"
   ]
  },
  {
   "cell_type": "code",
   "execution_count": 35,
   "metadata": {},
   "outputs": [
    {
     "name": "stdin",
     "output_type": "stream",
     "text": [
      "Ingrese una fraccion:  3/5\n"
     ]
    },
    {
     "name": "stdout",
     "output_type": "stream",
     "text": [
      "3/5\n"
     ]
    }
   ],
   "source": [
    "# Ingreso de numeros fraccionarios \n",
    "\n",
    "from fractions import Fraction\n",
    "\n",
    "try:\n",
    "    a = Fraction(input(\"Ingrese una fraccion: \"))\n",
    "    \n",
    "except ZeroDivisionError:\n",
    "    print(\"Fraccion invalida\")\n",
    "print(a)"
   ]
  },
  {
   "cell_type": "markdown",
   "metadata": {},
   "source": [
    "## Numeros complejos"
   ]
  },
  {
   "cell_type": "markdown",
   "metadata": {},
   "source": [
    "Los numeros complejos soportan operaciones comunes como la suma y multiplicacion.\n",
    "El modulo'%' y '//' no estan soportados en los numeros complejos"
   ]
  },
  {
   "cell_type": "code",
   "execution_count": 16,
   "metadata": {},
   "outputs": [
    {
     "name": "stdout",
     "output_type": "stream",
     "text": [
      "<class 'complex'>\n",
      "(2+3j)\n",
      "<class 'complex'>\n",
      "(10+3j)\n",
      "\n",
      "\n",
      "Operaciones con (2+3j) y (10+3j)\n",
      "Suma:\t(12+6j)\n",
      "Resta:\t(-8+0j)\n",
      "Multiplicacion:\t(11+36j)\n",
      "Division:\t(0.2660550458715596+0.2201834862385321j)\n"
     ]
    }
   ],
   "source": [
    "#Definiendo numeros complejos con la notacion\n",
    "a = 2+3j\n",
    "print(type(a))\n",
    "print(a)\n",
    "\n",
    "#Definiendo numeros complejos con la funcion complex\n",
    "b= complex(10,3)\n",
    "print(type(b))\n",
    "print(b)\n",
    "\n",
    "print(f\"\\n\\nOperaciones con {a} y {b}\")\n",
    "print(f\"Suma:\\t{a+b}\")\n",
    "print(f\"Resta:\\t{a-b}\")\n",
    "print(f\"Multiplicacion:\\t{a*b}\")\n",
    "print(f\"Division:\\t{a/b}\")"
   ]
  },
  {
   "cell_type": "code",
   "execution_count": 29,
   "metadata": {},
   "outputs": [
    {
     "name": "stdout",
     "output_type": "stream",
     "text": [
      "numero complejo\t\t(2+3j)\n",
      "Parte real:\t\t2.0\n",
      "Parte imaginaria:\t3.0\n",
      "\n",
      "Conjugado del numero:\t(2-3j)\n",
      "Calculando la magnitud de (2+3j)\n",
      "Magnitud:\t3.605551275463989\n",
      "Magnitud:\t3.605551275463989\n"
     ]
    }
   ],
   "source": [
    "# Atributo de un numero complejo\n",
    "\n",
    "complejo=complex(2, 3)\n",
    "\n",
    "print(f\"numero complejo\\t\\t{complejo}\")\n",
    "print(f\"Parte real:\\t\\t{complejo.real}\")\n",
    "print(f\"Parte imaginaria:\\t{complejo.imag}\")\n",
    "\n",
    "print(f\"\\nConjugado del numero:\\t{complejo.conjugate()}\")\n",
    "\n",
    "print(f\"Calculando la magnitud de {complejo}\")\n",
    "print(f\"Magnitud:\\t{(complejo.real**2 + complejo.imag**2)**0.5}\")\n",
    "#De unas manera mas sencilla:\n",
    "print(f\"Magnitud:\\t{abs(complejo)}\")"
   ]
  },
  {
   "cell_type": "code",
   "execution_count": 38,
   "metadata": {},
   "outputs": [
    {
     "name": "stdin",
     "output_type": "stream",
     "text": [
      "Ingrese un numero complejo:  2+4j\n"
     ]
    },
    {
     "name": "stdout",
     "output_type": "stream",
     "text": [
      "Numero complejo: (2+4j)\n"
     ]
    }
   ],
   "source": [
    "# Entrada por teclado para numeros complejos\n",
    "\n",
    "z=complex(input(\"Ingrese un numero complejo: \"))\n",
    "\n",
    "print(f\"Numero complejo: {z}\")"
   ]
  },
  {
   "cell_type": "markdown",
   "metadata": {},
   "source": [
    "# Escribiendo programas que hacen matematicas"
   ]
  },
  {
   "cell_type": "code",
   "execution_count": 39,
   "metadata": {},
   "outputs": [
    {
     "name": "stdout",
     "output_type": "stream",
     "text": [
      "4 es factor de 2056 True\n"
     ]
    }
   ],
   "source": [
    "# Un numero es factor de otro\n",
    "\n",
    "def es_factor(a,b):\n",
    "    if b%a==0:\n",
    "        return True\n",
    "    else:\n",
    "        return False\n",
    "    \n",
    "print(\"4 es factor de 2056\", es_factor(4,2056))\n"
   ]
  },
  {
   "cell_type": "code",
   "execution_count": 43,
   "metadata": {},
   "outputs": [
    {
     "name": "stdin",
     "output_type": "stream",
     "text": [
      "ingrese su numero porfavor:  45\n"
     ]
    },
    {
     "name": "stdout",
     "output_type": "stream",
     "text": [
      "1\n",
      "3\n",
      "5\n",
      "9\n",
      "15\n",
      "45\n"
     ]
    }
   ],
   "source": [
    "# Encontrando todos los factores de un numero entero\n",
    "\n",
    "def factores(numero):\n",
    "    for i in range(1, numero+1):\n",
    "        if numero%i==0:\n",
    "            print(i)\n",
    "\n",
    "b = float(input(\"ingrese su numero porfavor: \"))\n",
    "\n",
    "if b > 0 and b.is_integer():\n",
    "    factores(int(b))\n",
    "else:\n",
    "    print(\"Escribe un numero positivo entero\")\n"
   ]
  },
  {
   "cell_type": "code",
   "execution_count": 6,
   "metadata": {},
   "outputs": [
    {
     "name": "stdout",
     "output_type": "stream",
     "text": [
      "256 * 256 = 65536\n",
      "256 * 257 = 65792\n",
      "\n",
      "\n",
      "257 * 256 = 65792\n",
      "257 * 257 = 66049\n",
      "\n",
      "\n"
     ]
    }
   ],
   "source": [
    "# Gerando todas las tablas de multiplicar\n",
    "\n",
    "\n",
    "def tabls(lista):\n",
    "    for i in lista:\n",
    "        for j in lista:\n",
    "            print(f\"{i} * {j} = {i*j}\")\n",
    "        print(\"\\n\")\n",
    "            \n",
    "\n",
    "\n",
    "lista=[x for x in range(256,258)]\n",
    "tabls(lista)\n",
    "    "
   ]
  },
  {
   "cell_type": "code",
   "execution_count": null,
   "metadata": {},
   "outputs": [],
   "source": [
    "# Conversor de unidades\n",
    "\n"
   ]
  }
 ],
 "metadata": {
  "kernelspec": {
   "display_name": "Python 3",
   "language": "python",
   "name": "python3"
  },
  "language_info": {
   "codemirror_mode": {
    "name": "ipython",
    "version": 3
   },
   "file_extension": ".py",
   "mimetype": "text/x-python",
   "name": "python",
   "nbconvert_exporter": "python",
   "pygments_lexer": "ipython3",
   "version": "3.8.3"
  }
 },
 "nbformat": 4,
 "nbformat_minor": 4
}
