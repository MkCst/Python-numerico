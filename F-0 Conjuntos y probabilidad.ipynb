{
 "cells": [
  {
   "cell_type": "markdown",
   "metadata": {},
   "source": [
    "# Calculo de probabilidades"
   ]
  },
  {
   "cell_type": "code",
   "execution_count": 1,
   "metadata": {},
   "outputs": [
    {
     "name": "stdin",
     "output_type": "stream",
     "text": [
      "Numero de tiros del dado:  1\n",
      "Numero de intentos : 1000\n"
     ]
    }
   ],
   "source": [
    "# Probabilidades\n",
    "\n",
    "from random import randint, choice\n",
    "import random\n",
    "from bokeh.plotting import figure, show\n",
    "from bokeh.io import output_file, export_png\n",
    "output_file(\"probabilidad_1.html\")\n",
    "\n",
    "def tirar_dado(tiros):\n",
    "    lista_tiros = []\n",
    "    for _ in range(tiros):\n",
    "        lista_tiros.append(random.choice([1,2,3,4,5,6]))\n",
    "    return lista_tiros\n",
    "\n",
    "def calculo_probabilidad(tiros_totales):\n",
    "    probabilidades = []\n",
    "    tiro_1 = 0\n",
    "    for tiros in tiros_totales:\n",
    "        if 1 in tiros:\n",
    "            tiro_1 +=1\n",
    "    return tiro_1 / len(tiros_totales)\n",
    "        \n",
    "    \n",
    "def plot(intentos, probabilidades):\n",
    "    plot = figure(\n",
    "        title = \"Probabilidad de obtener 1 con 1 tiro\",\n",
    "        x_axis_label = \"intentos\",\n",
    "        y_axis_label = \"probabilidades\"\n",
    "    )\n",
    "    plot.line(intentos, probabilidades)\n",
    "    show(plot)\n",
    "    #exportando como imagen\n",
    "    export_png(plot, filename=\"probabilidad1.png\")\n",
    "    \n",
    "\n",
    "\n",
    "def main(tiros, intentos):\n",
    "    # tiros * intentos\n",
    "    tiros_por_intento = []\n",
    "    probabilidades =[]\n",
    "    escala = [x for x in range(0,intentos)]\n",
    "    \n",
    "    for _ in range (intentos):\n",
    "        tiros_por_intento.append(tirar_dado(tiros))\n",
    "        probabilidades.append(calculo_probabilidad(tiros_por_intento))\n",
    "        \n",
    "    plot(escala, probabilidades)\n",
    "    \n",
    "    \n",
    "\n",
    "    \n",
    "numero_tiros = int(input(\"Numero de tiros del dado: \"))\n",
    "## veces que correra la simulacion\n",
    "numero_intentos = int(input(\"Numero de intentos :\"))\n",
    "\n",
    "main(numero_tiros, numero_intentos)\n"
   ]
  },
  {
   "cell_type": "markdown",
   "metadata": {},
   "source": [
    "**Salida del programa**\n",
    "<div align=\"center\">\n",
    "    <p align=\"center\" **Salida del programa** ></p>\n",
    "    <img src=\"readme_img/probabilidad1.png\">\n",
    "</div>\n",
    "\n"
   ]
  }
 ],
 "metadata": {
  "kernelspec": {
   "display_name": "Python 3",
   "language": "python",
   "name": "python3"
  },
  "language_info": {
   "codemirror_mode": {
    "name": "ipython",
    "version": 3
   },
   "file_extension": ".py",
   "mimetype": "text/x-python",
   "name": "python",
   "nbconvert_exporter": "python",
   "pygments_lexer": "ipython3",
   "version": "3.8.5"
  }
 },
 "nbformat": 4,
 "nbformat_minor": 4
}
