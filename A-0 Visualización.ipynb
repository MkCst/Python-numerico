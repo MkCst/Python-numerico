{
 "cells": [
  {
   "cell_type": "markdown",
   "metadata": {},
   "source": [
    "# Introduccion a la computacion con python\n",
    "\n",
    "\n",
    "## Pantalla de salida enriquecida\n"
   ]
  },
  {
   "cell_type": "code",
   "execution_count": 1,
   "metadata": {},
   "outputs": [
    {
     "data": {
      "text/html": [
       "<img src=\"https://www.python.org/static/img/python-logo.png\"/>"
      ],
      "text/plain": [
       "<IPython.core.display.Image object>"
      ]
     },
     "execution_count": 1,
     "metadata": {},
     "output_type": "execute_result"
    }
   ],
   "source": [
    "# Forma de mostrar imagenes\n",
    "\n",
    "from IPython.display import display,Image, HTML, Math\n",
    "\n",
    "Image(url=\"https://www.python.org/static/img/python-logo.png\")"
   ]
  },
  {
   "cell_type": "code",
   "execution_count": null,
   "metadata": {},
   "outputs": [],
   "source": [
    "# Manera de mostrar codigo HTML\n",
    "\n",
    "import scipy, numpy, matplotlib\n",
    "\n",
    "modulos=[numpy, matplotlib, scipy]\n",
    "row=\"<tr><td>%s</td> <td>%s</td> </tr>\"\n",
    "rows = \"\\n\".join([row % (modulo.__name__, modulo.__version__) for modulo in modulos ] )\n",
    "s = \"<table> <tr><th> Libreria </th> <th> Version </th></tr> %s </table>\"% rows\n",
    "\n",
    "HTML(s)\n",
    "\"\"\"\n",
    "Ademas soporta otras estru\n",
    "\"\"\""
   ]
  },
  {
   "cell_type": "code",
   "execution_count": 11,
   "metadata": {},
   "outputs": [
    {
     "data": {
      "text/latex": [
       "$\\displaystyle \\hat{H} = -\\frac{1}{2}\\epsilon \\hat{\\sigma}_z-\\frac{1}{2}\\delta \\hat{\\sigma}_x$"
      ],
      "text/plain": [
       "<IPython.core.display.Math object>"
      ]
     },
     "execution_count": 11,
     "metadata": {},
     "output_type": "execute_result"
    }
   ],
   "source": [
    "# Manera de representar estructuras  matematicas\n",
    "\n",
    "Math(r\"\\hat{H} = -\\frac{1}{2}\\epsilon \\hat{\\sigma}_z-\\frac{1}{2}\\delta \\hat{\\sigma}_x\")"
   ]
  },
  {
   "cell_type": "markdown",
   "metadata": {},
   "source": [
    "## Uso modulo turtle"
   ]
  },
  {
   "cell_type": "code",
   "execution_count": null,
   "metadata": {},
   "outputs": [],
   "source": [
    "#Cuadrado ciclico\n",
    "\n",
    "from turtle import *\n",
    "\n",
    "\n",
    "def square():\n",
    "    for _ in range(60):\n",
    "        for _ in range(4):\n",
    "            forward(100)\n",
    "            right(90)\n",
    "        right(5)\n",
    "        \n",
    "        \n",
    "square()\n",
    "exitonclick()"
   ]
  },
  {
   "cell_type": "code",
   "execution_count": null,
   "metadata": {},
   "outputs": [],
   "source": [
    "# Dibujo de un triangulo\n",
    "from turtle import *\n",
    "\n",
    "def triangle():\n",
    "    for _ in range(3):\n",
    "        forward(100)\n",
    "        right(120)\n",
    "\n",
    "triangle()\n",
    "exitonclick()\n"
   ]
  },
  {
   "cell_type": "code",
   "execution_count": null,
   "metadata": {},
   "outputs": [],
   "source": [
    "# Cuadrado en espiral\n",
    "def square(largo):\n",
    "    for _ in range(60):\n",
    "        for _ in range(5):\n",
    "            forward(largo)\n",
    "            right(144)\n",
    "        right(5)\n",
    "        largo+=5\n",
    "        \n",
    "square(5)\n",
    "exitonclick()\n"
   ]
  }
 ],
 "metadata": {
  "kernelspec": {
   "display_name": "Python 3",
   "language": "python",
   "name": "python3"
  },
  "language_info": {
   "codemirror_mode": {
    "name": "ipython",
    "version": 3
   },
   "file_extension": ".py",
   "mimetype": "text/x-python",
   "name": "python",
   "nbconvert_exporter": "python",
   "pygments_lexer": "ipython3",
   "version": "3.8.3"
  }
 },
 "nbformat": 4,
 "nbformat_minor": 4
}
